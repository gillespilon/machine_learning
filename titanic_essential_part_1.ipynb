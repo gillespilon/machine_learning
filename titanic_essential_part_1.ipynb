{
 "cells": [
  {
   "cell_type": "markdown",
   "metadata": {},
   "source": [
    "# Supervised machine learning logistic regression"
   ]
  },
  {
   "cell_type": "code",
   "execution_count": 1,
   "metadata": {},
   "outputs": [],
   "source": [
    "# Import librairies\n",
    "import pandas as pd\n",
    "from sklearn.preprocessing import OneHotEncoder\n",
    "from sklearn.linear_model import LogisticRegression\n",
    "from sklearn.compose import make_column_transformer\n",
    "from sklearn.feature_extraction.text import CountVectorizer\n",
    "from sklearn.pipeline import make_pipeline"
   ]
  },
  {
   "cell_type": "code",
   "execution_count": 2,
   "metadata": {},
   "outputs": [],
   "source": [
    "# Define features and target\n",
    "features_all = ['Parch', 'Fare', 'Embarked', 'Sex', 'Name']\n",
    "features_categorical = ['Embarked', 'Sex']\n",
    "features_text = 'Name'\n",
    "target = 'Survived'"
   ]
  },
  {
   "cell_type": "code",
   "execution_count": 3,
   "metadata": {},
   "outputs": [],
   "source": [
    "# Import the training data set\n",
    "df = pd.read_csv('http://bit.ly/kaggletrain', nrows=10)\n",
    "# Create a DataFrame of the features for the training data set\n",
    "X = df[features_all]\n",
    "# Create a Series of the target for the training data set\n",
    "y = df[target]\n",
    "# Import the testing data set\n",
    "df_new = pd.read_csv('http://bit.ly/kaggletest', nrows=10)\n",
    "# Create a DataFrame of the features for the testing data set\n",
    "X_new = df_new[features_all]"
   ]
  },
  {
   "cell_type": "code",
   "execution_count": 4,
   "metadata": {},
   "outputs": [],
   "source": [
    "# Create the OneHotEncoder object for encoding categorical columns\n",
    "ohe = OneHotEncoder()\n",
    "# Create the CountVectorizer object for encoding text columns\n",
    "vect = CountVectorizer()\n",
    "# Create the column transformer object\n",
    "ct = make_column_transformer(\n",
    "    (ohe, features_categorical),\n",
    "    (vect, features_text),\n",
    "    remainder='passthrough')\n",
    "# Create the logistic regression object\n",
    "logreg = LogisticRegression(solver='liblinear', random_state=1)\n",
    "# Create the pipeline object\n",
    "pipe = make_pipeline(ct, logreg)"
   ]
  },
  {
   "cell_type": "code",
   "execution_count": 5,
   "metadata": {},
   "outputs": [
    {
     "data": {
      "text/plain": [
       "array([0, 1, 0, 0, 1, 0, 1, 0, 1, 0])"
      ]
     },
     "execution_count": 5,
     "metadata": {},
     "output_type": "execute_result"
    }
   ],
   "source": [
    "# Call the fit method\n",
    "pipe.fit(X, y)\n",
    "# Call the predict method\n",
    "pipe.predict(X_new)"
   ]
  }
 ],
 "metadata": {
  "kernelspec": {
   "display_name": "Python 3",
   "language": "python",
   "name": "python3"
  },
  "language_info": {
   "codemirror_mode": {
    "name": "ipython",
    "version": 3
   },
   "file_extension": ".py",
   "mimetype": "text/x-python",
   "name": "python",
   "nbconvert_exporter": "python",
   "pygments_lexer": "ipython3",
   "version": "3.8.2"
  },
  "varInspector": {
   "cols": {
    "lenName": 16,
    "lenType": 16,
    "lenVar": 40
   },
   "kernels_config": {
    "python": {
     "delete_cmd_postfix": "",
     "delete_cmd_prefix": "del ",
     "library": "var_list.py",
     "varRefreshCmd": "print(var_dic_list())"
    },
    "r": {
     "delete_cmd_postfix": ") ",
     "delete_cmd_prefix": "rm(",
     "library": "var_list.r",
     "varRefreshCmd": "cat(var_dic_list()) "
    }
   },
   "types_to_exclude": [
    "module",
    "function",
    "builtin_function_or_method",
    "instance",
    "_Feature"
   ],
   "window_display": false
  }
 },
 "nbformat": 4,
 "nbformat_minor": 2
}
