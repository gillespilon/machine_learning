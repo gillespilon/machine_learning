{
 "cells": [
  {
   "cell_type": "markdown",
   "metadata": {},
   "source": [
    "# Python scikit-learn Machine Learning Workflow "
   ]
  },
  {
   "cell_type": "markdown",
   "metadata": {},
   "source": [
    "In this example I use a simulated data set that has seven features (X1-X7) that affect the target (Y) and six features (X8-X13) that have zero effect on the target.\n",
    "\n",
    "pandas\n",
    "\n",
    "- Use mask to replace outliers with NaN\n",
    "\n",
    "scikit-learn\n",
    "\n",
    "-\tImpute missing values (NaN) with averages\n",
    "-\tCreate training and testing data sets\n",
    "-\tPerform linear regression for a dependent variable of type float (target) and independent variables of type float or integer (features)\n",
    "-\tCreate a workflow pipeline\n",
    "-\tPerform n-fold cross validation on the entire pipeline\n",
    "-\tPerform feature selection\n",
    "-\tTune the hyperparameters of the model using grid search"
   ]
  },
  {
   "cell_type": "markdown",
   "metadata": {},
   "source": [
    "## Setting up"
   ]
  },
  {
   "cell_type": "code",
   "execution_count": 32,
   "metadata": {},
   "outputs": [],
   "source": [
    "# Import libraries\n",
    "from datetime import datetime\n",
    "import numpy as np\n",
    "import pandas as pd\n",
    "from sklearn.compose import make_column_transformer\n",
    "from sklearn.feature_selection import SelectFromModel\n",
    "from sklearn.impute import SimpleImputer\n",
    "from sklearn.linear_model import LinearRegression\n",
    "from sklearn.model_selection import cross_val_score, GridSearchCV, train_test_split\n",
    "from sklearn.pipeline import make_pipeline\n",
    "import datasense as ds"
   ]
  },
  {
   "cell_type": "code",
   "execution_count": 33,
   "metadata": {},
   "outputs": [],
   "source": [
    "start_time = datetime.now()"
   ]
  },
  {
   "cell_type": "code",
   "execution_count": 34,
   "metadata": {},
   "outputs": [],
   "source": [
    "# Set global parameters\n",
    "pd.options.display.max_rows = None\n",
    "pd.options.display.max_columns = None\n",
    "filename = 'lunch_and_learn.csv'\n",
    "target = 'Y'\n",
    "features = ['X1', 'X2', 'X3', 'X4', 'X5', 'X6', 'X7',\n",
    "            'X8', 'X9', 'X10', 'X11', 'X12', 'X13']"
   ]
  },
  {
   "cell_type": "markdown",
   "metadata": {},
   "source": [
    "## Clean the data"
   ]
  },
  {
   "cell_type": "code",
   "execution_count": 35,
   "metadata": {},
   "outputs": [],
   "source": [
    "# Read data file into a pandas DataFrame\n",
    "data = pd.read_csv(filename)"
   ]
  },
  {
   "cell_type": "code",
   "execution_count": 36,
   "metadata": {
    "scrolled": false
   },
   "outputs": [],
   "source": [
    "# Describe information about the DataFrame\n",
    "# ds.dataframe_info(data, filename)"
   ]
  },
  {
   "cell_type": "code",
   "execution_count": 37,
   "metadata": {},
   "outputs": [
    {
     "data": {
      "text/plain": [
       "X1     0\n",
       "X2     0\n",
       "X3     0\n",
       "X4     0\n",
       "X5     0\n",
       "X6     0\n",
       "X7     0\n",
       "X8     0\n",
       "X9     0\n",
       "X10    0\n",
       "X11    0\n",
       "X12    0\n",
       "X13    0\n",
       "Y      0\n",
       "dtype: int64"
      ]
     },
     "execution_count": 37,
     "metadata": {},
     "output_type": "execute_result"
    }
   ],
   "source": [
    "# Check for missing values\n",
    "data.isna().sum()"
   ]
  },
  {
   "cell_type": "code",
   "execution_count": 38,
   "metadata": {},
   "outputs": [
    {
     "data": {
      "text/plain": [
       "(5000, 14)"
      ]
     },
     "execution_count": 38,
     "metadata": {},
     "output_type": "execute_result"
    }
   ],
   "source": [
    "# Determine the number of rows and columns\n",
    "data.shape"
   ]
  },
  {
   "cell_type": "code",
   "execution_count": 39,
   "metadata": {
    "scrolled": false
   },
   "outputs": [],
   "source": [
    "# Describe the feature columns\n",
    "# for column in features:\n",
    "#     print(column)\n",
    "#     result = ds.nonparametric_summary(data[column])\n",
    "#     print(result, '\\n')"
   ]
  },
  {
   "cell_type": "code",
   "execution_count": 40,
   "metadata": {},
   "outputs": [],
   "source": [
    "# Set lower and upper values to remove outliers\n",
    "mask_values = [\n",
    "    ('X1', -20, 20),\n",
    "    ('X2', -25, 25),\n",
    "    ('X3', -5, 5),\n",
    "    ('X4', -10, 10),\n",
    "    ('X5', -3, 3),\n",
    "    ('X6', -5, 5),\n",
    "    ('X7', -13, 13),\n",
    "    ('X8', -9, 15),\n",
    "    ('X9', -17, 15),\n",
    "    ('X10', -16, 15),\n",
    "    ('X11', -16, 17),\n",
    "    ('X12', -16, 17),\n",
    "    ('X13', -20, 23)\n",
    "]\n",
    "# Replace outliers with NaN\n",
    "for column, lowvalue, highvalue in mask_values:\n",
    "    data[column]= data[column].mask(\n",
    "        (data[column] <= lowvalue) |\n",
    "        (data[column] >= highvalue)\n",
    "    )"
   ]
  },
  {
   "cell_type": "code",
   "execution_count": 41,
   "metadata": {
    "scrolled": false
   },
   "outputs": [],
   "source": [
    "# Describe the feature columns\n",
    "# for column in features:\n",
    "#     print(column)\n",
    "#     result = ds.nonparametric_summary(data[column])\n",
    "#     print(result, '\\n')"
   ]
  },
  {
   "cell_type": "markdown",
   "metadata": {},
   "source": [
    "## Start of machine learning"
   ]
  },
  {
   "cell_type": "code",
   "execution_count": 42,
   "metadata": {},
   "outputs": [],
   "source": [
    "# Create training and testing data sets\n",
    "X = data[features]\n",
    "y = data[target]\n",
    "X_train, X_test, y_train, y_test = train_test_split(\n",
    "    X, y, test_size=0.33, random_state=42)"
   ]
  },
  {
   "cell_type": "code",
   "execution_count": 43,
   "metadata": {},
   "outputs": [
    {
     "data": {
      "text/plain": [
       "((5000, 13), (5000,), (3350, 13), (1650, 13), (3350,), (1650,))"
      ]
     },
     "execution_count": 43,
     "metadata": {},
     "output_type": "execute_result"
    }
   ],
   "source": [
    "# Determine the number of rows and columns\n",
    "X.shape, y.shape, X_train.shape, X_test.shape, y_train.shape, y_test.shape"
   ]
  },
  {
   "cell_type": "code",
   "execution_count": 44,
   "metadata": {},
   "outputs": [
    {
     "data": {
      "text/plain": [
       "X1      4\n",
       "X2      4\n",
       "X3      4\n",
       "X4      4\n",
       "X5      4\n",
       "X6      4\n",
       "X7      6\n",
       "X8     12\n",
       "X9      4\n",
       "X10     4\n",
       "X11     4\n",
       "X12     4\n",
       "X13     4\n",
       "Y       0\n",
       "dtype: int64"
      ]
     },
     "execution_count": 44,
     "metadata": {},
     "output_type": "execute_result"
    }
   ],
   "source": [
    "# Check the DataFrame for missing values\n",
    "data.isna().sum()"
   ]
  },
  {
   "cell_type": "markdown",
   "metadata": {},
   "source": [
    "## Start of pipeline"
   ]
  },
  {
   "cell_type": "code",
   "execution_count": 45,
   "metadata": {},
   "outputs": [],
   "source": [
    "# Create the imputer object\n",
    "imp = SimpleImputer()"
   ]
  },
  {
   "cell_type": "code",
   "execution_count": 46,
   "metadata": {},
   "outputs": [],
   "source": [
    "# Create the column transformer object\n",
    "ct = make_column_transformer(\n",
    "     (imp, features),\n",
    "     remainder='passthrough'\n",
    ")"
   ]
  },
  {
   "cell_type": "code",
   "execution_count": 47,
   "metadata": {},
   "outputs": [],
   "source": [
    "# Create a regression object to use for the feature selection object\n",
    "linreg_selection = LinearRegression(fit_intercept=True)"
   ]
  },
  {
   "cell_type": "code",
   "execution_count": 48,
   "metadata": {},
   "outputs": [],
   "source": [
    "# Create a feature selection object\n",
    "selection = SelectFromModel(linreg_selection, threshold='median')"
   ]
  },
  {
   "cell_type": "code",
   "execution_count": 49,
   "metadata": {},
   "outputs": [],
   "source": [
    "# Create the linear regression object\n",
    "linreg= LinearRegression(fit_intercept=True)"
   ]
  },
  {
   "cell_type": "code",
   "execution_count": 50,
   "metadata": {},
   "outputs": [],
   "source": [
    "# Create the workflow object\n",
    "pipe = make_pipeline(ct, selection, linreg)"
   ]
  },
  {
   "cell_type": "code",
   "execution_count": 51,
   "metadata": {},
   "outputs": [],
   "source": [
    "# Determine the linear regression model for the training data set\n",
    "pipe.fit(X_train, y_train);"
   ]
  },
  {
   "cell_type": "code",
   "execution_count": 52,
   "metadata": {},
   "outputs": [],
   "source": [
    "# Set the hyperparameters for optimization\n",
    "hyperparams = {}\n",
    "hyperparams['columntransformer__simpleimputer__strategy'] = \\\n",
    "    ['mean', 'median', 'most_frequent', 'constant']\n",
    "hyperparams['selectfrommodel__threshold'] = [None, 'mean', 'median']\n",
    "hyperparams['linearregression__normalize'] = [False, True]"
   ]
  },
  {
   "cell_type": "code",
   "execution_count": 53,
   "metadata": {
    "scrolled": false
   },
   "outputs": [],
   "source": [
    "# Perform a grid search\n",
    "grid = GridSearchCV(pipe, hyperparams, cv=5)\n",
    "grid.fit(X_train, y_train);"
   ]
  },
  {
   "cell_type": "code",
   "execution_count": 54,
   "metadata": {},
   "outputs": [
    {
     "data": {
      "text/html": [
       "<div>\n",
       "<style scoped>\n",
       "    .dataframe tbody tr th:only-of-type {\n",
       "        vertical-align: middle;\n",
       "    }\n",
       "\n",
       "    .dataframe tbody tr th {\n",
       "        vertical-align: top;\n",
       "    }\n",
       "\n",
       "    .dataframe thead th {\n",
       "        text-align: right;\n",
       "    }\n",
       "</style>\n",
       "<table border=\"1\" class=\"dataframe\">\n",
       "  <thead>\n",
       "    <tr style=\"text-align: right;\">\n",
       "      <th></th>\n",
       "      <th>mean_fit_time</th>\n",
       "      <th>std_fit_time</th>\n",
       "      <th>mean_score_time</th>\n",
       "      <th>std_score_time</th>\n",
       "      <th>param_columntransformer__simpleimputer__strategy</th>\n",
       "      <th>param_linearregression__normalize</th>\n",
       "      <th>param_selectfrommodel__threshold</th>\n",
       "      <th>params</th>\n",
       "      <th>split0_test_score</th>\n",
       "      <th>split1_test_score</th>\n",
       "      <th>split2_test_score</th>\n",
       "      <th>split3_test_score</th>\n",
       "      <th>split4_test_score</th>\n",
       "      <th>mean_test_score</th>\n",
       "      <th>std_test_score</th>\n",
       "      <th>rank_test_score</th>\n",
       "    </tr>\n",
       "  </thead>\n",
       "  <tbody>\n",
       "    <tr>\n",
       "      <th>2</th>\n",
       "      <td>0.006726</td>\n",
       "      <td>0.000156</td>\n",
       "      <td>0.002551</td>\n",
       "      <td>0.000058</td>\n",
       "      <td>mean</td>\n",
       "      <td>False</td>\n",
       "      <td>median</td>\n",
       "      <td>{'columntransformer__simpleimputer__strategy':...</td>\n",
       "      <td>0.992061</td>\n",
       "      <td>0.989913</td>\n",
       "      <td>0.986155</td>\n",
       "      <td>0.993900</td>\n",
       "      <td>0.988982</td>\n",
       "      <td>0.990202</td>\n",
       "      <td>0.002649</td>\n",
       "      <td>1</td>\n",
       "    </tr>\n",
       "    <tr>\n",
       "      <th>5</th>\n",
       "      <td>0.006695</td>\n",
       "      <td>0.000086</td>\n",
       "      <td>0.002560</td>\n",
       "      <td>0.000035</td>\n",
       "      <td>mean</td>\n",
       "      <td>True</td>\n",
       "      <td>median</td>\n",
       "      <td>{'columntransformer__simpleimputer__strategy':...</td>\n",
       "      <td>0.992061</td>\n",
       "      <td>0.989913</td>\n",
       "      <td>0.986155</td>\n",
       "      <td>0.993900</td>\n",
       "      <td>0.988982</td>\n",
       "      <td>0.990202</td>\n",
       "      <td>0.002649</td>\n",
       "      <td>1</td>\n",
       "    </tr>\n",
       "    <tr>\n",
       "      <th>23</th>\n",
       "      <td>0.007288</td>\n",
       "      <td>0.001183</td>\n",
       "      <td>0.002692</td>\n",
       "      <td>0.000252</td>\n",
       "      <td>constant</td>\n",
       "      <td>True</td>\n",
       "      <td>median</td>\n",
       "      <td>{'columntransformer__simpleimputer__strategy':...</td>\n",
       "      <td>0.992084</td>\n",
       "      <td>0.989849</td>\n",
       "      <td>0.986147</td>\n",
       "      <td>0.993903</td>\n",
       "      <td>0.988996</td>\n",
       "      <td>0.990196</td>\n",
       "      <td>0.002656</td>\n",
       "      <td>3</td>\n",
       "    </tr>\n",
       "    <tr>\n",
       "      <th>20</th>\n",
       "      <td>0.008219</td>\n",
       "      <td>0.001564</td>\n",
       "      <td>0.003697</td>\n",
       "      <td>0.000650</td>\n",
       "      <td>constant</td>\n",
       "      <td>False</td>\n",
       "      <td>median</td>\n",
       "      <td>{'columntransformer__simpleimputer__strategy':...</td>\n",
       "      <td>0.992084</td>\n",
       "      <td>0.989849</td>\n",
       "      <td>0.986147</td>\n",
       "      <td>0.993903</td>\n",
       "      <td>0.988996</td>\n",
       "      <td>0.990196</td>\n",
       "      <td>0.002656</td>\n",
       "      <td>4</td>\n",
       "    </tr>\n",
       "    <tr>\n",
       "      <th>8</th>\n",
       "      <td>0.010751</td>\n",
       "      <td>0.001469</td>\n",
       "      <td>0.002969</td>\n",
       "      <td>0.000569</td>\n",
       "      <td>median</td>\n",
       "      <td>False</td>\n",
       "      <td>median</td>\n",
       "      <td>{'columntransformer__simpleimputer__strategy':...</td>\n",
       "      <td>0.992067</td>\n",
       "      <td>0.989829</td>\n",
       "      <td>0.986138</td>\n",
       "      <td>0.993902</td>\n",
       "      <td>0.988969</td>\n",
       "      <td>0.990181</td>\n",
       "      <td>0.002659</td>\n",
       "      <td>5</td>\n",
       "    </tr>\n",
       "    <tr>\n",
       "      <th>11</th>\n",
       "      <td>0.011590</td>\n",
       "      <td>0.001404</td>\n",
       "      <td>0.002992</td>\n",
       "      <td>0.000545</td>\n",
       "      <td>median</td>\n",
       "      <td>True</td>\n",
       "      <td>median</td>\n",
       "      <td>{'columntransformer__simpleimputer__strategy':...</td>\n",
       "      <td>0.992067</td>\n",
       "      <td>0.989829</td>\n",
       "      <td>0.986138</td>\n",
       "      <td>0.993902</td>\n",
       "      <td>0.988969</td>\n",
       "      <td>0.990181</td>\n",
       "      <td>0.002659</td>\n",
       "      <td>5</td>\n",
       "    </tr>\n",
       "    <tr>\n",
       "      <th>0</th>\n",
       "      <td>0.014632</td>\n",
       "      <td>0.003874</td>\n",
       "      <td>0.005510</td>\n",
       "      <td>0.001388</td>\n",
       "      <td>mean</td>\n",
       "      <td>False</td>\n",
       "      <td>None</td>\n",
       "      <td>{'columntransformer__simpleimputer__strategy':...</td>\n",
       "      <td>0.991560</td>\n",
       "      <td>0.989465</td>\n",
       "      <td>0.985360</td>\n",
       "      <td>0.993315</td>\n",
       "      <td>0.988622</td>\n",
       "      <td>0.989665</td>\n",
       "      <td>0.002704</td>\n",
       "      <td>7</td>\n",
       "    </tr>\n",
       "    <tr>\n",
       "      <th>3</th>\n",
       "      <td>0.006635</td>\n",
       "      <td>0.000059</td>\n",
       "      <td>0.002606</td>\n",
       "      <td>0.000174</td>\n",
       "      <td>mean</td>\n",
       "      <td>True</td>\n",
       "      <td>None</td>\n",
       "      <td>{'columntransformer__simpleimputer__strategy':...</td>\n",
       "      <td>0.991560</td>\n",
       "      <td>0.989465</td>\n",
       "      <td>0.985360</td>\n",
       "      <td>0.993315</td>\n",
       "      <td>0.988622</td>\n",
       "      <td>0.989665</td>\n",
       "      <td>0.002704</td>\n",
       "      <td>7</td>\n",
       "    </tr>\n",
       "    <tr>\n",
       "      <th>1</th>\n",
       "      <td>0.006700</td>\n",
       "      <td>0.000337</td>\n",
       "      <td>0.002474</td>\n",
       "      <td>0.000035</td>\n",
       "      <td>mean</td>\n",
       "      <td>False</td>\n",
       "      <td>mean</td>\n",
       "      <td>{'columntransformer__simpleimputer__strategy':...</td>\n",
       "      <td>0.991560</td>\n",
       "      <td>0.989465</td>\n",
       "      <td>0.985360</td>\n",
       "      <td>0.993315</td>\n",
       "      <td>0.988622</td>\n",
       "      <td>0.989665</td>\n",
       "      <td>0.002704</td>\n",
       "      <td>7</td>\n",
       "    </tr>\n",
       "    <tr>\n",
       "      <th>4</th>\n",
       "      <td>0.006606</td>\n",
       "      <td>0.000081</td>\n",
       "      <td>0.002419</td>\n",
       "      <td>0.000051</td>\n",
       "      <td>mean</td>\n",
       "      <td>True</td>\n",
       "      <td>mean</td>\n",
       "      <td>{'columntransformer__simpleimputer__strategy':...</td>\n",
       "      <td>0.991560</td>\n",
       "      <td>0.989465</td>\n",
       "      <td>0.985360</td>\n",
       "      <td>0.993315</td>\n",
       "      <td>0.988622</td>\n",
       "      <td>0.989665</td>\n",
       "      <td>0.002704</td>\n",
       "      <td>7</td>\n",
       "    </tr>\n",
       "    <tr>\n",
       "      <th>21</th>\n",
       "      <td>0.009527</td>\n",
       "      <td>0.000682</td>\n",
       "      <td>0.004521</td>\n",
       "      <td>0.000617</td>\n",
       "      <td>constant</td>\n",
       "      <td>True</td>\n",
       "      <td>None</td>\n",
       "      <td>{'columntransformer__simpleimputer__strategy':...</td>\n",
       "      <td>0.991583</td>\n",
       "      <td>0.989401</td>\n",
       "      <td>0.985351</td>\n",
       "      <td>0.993318</td>\n",
       "      <td>0.988636</td>\n",
       "      <td>0.989658</td>\n",
       "      <td>0.002711</td>\n",
       "      <td>11</td>\n",
       "    </tr>\n",
       "    <tr>\n",
       "      <th>19</th>\n",
       "      <td>0.006499</td>\n",
       "      <td>0.000543</td>\n",
       "      <td>0.002468</td>\n",
       "      <td>0.000054</td>\n",
       "      <td>constant</td>\n",
       "      <td>False</td>\n",
       "      <td>mean</td>\n",
       "      <td>{'columntransformer__simpleimputer__strategy':...</td>\n",
       "      <td>0.991583</td>\n",
       "      <td>0.989401</td>\n",
       "      <td>0.985351</td>\n",
       "      <td>0.993318</td>\n",
       "      <td>0.988636</td>\n",
       "      <td>0.989658</td>\n",
       "      <td>0.002711</td>\n",
       "      <td>11</td>\n",
       "    </tr>\n",
       "    <tr>\n",
       "      <th>22</th>\n",
       "      <td>0.009838</td>\n",
       "      <td>0.000890</td>\n",
       "      <td>0.004160</td>\n",
       "      <td>0.000875</td>\n",
       "      <td>constant</td>\n",
       "      <td>True</td>\n",
       "      <td>mean</td>\n",
       "      <td>{'columntransformer__simpleimputer__strategy':...</td>\n",
       "      <td>0.991583</td>\n",
       "      <td>0.989401</td>\n",
       "      <td>0.985351</td>\n",
       "      <td>0.993318</td>\n",
       "      <td>0.988636</td>\n",
       "      <td>0.989658</td>\n",
       "      <td>0.002711</td>\n",
       "      <td>11</td>\n",
       "    </tr>\n",
       "    <tr>\n",
       "      <th>18</th>\n",
       "      <td>0.007413</td>\n",
       "      <td>0.001676</td>\n",
       "      <td>0.002518</td>\n",
       "      <td>0.000097</td>\n",
       "      <td>constant</td>\n",
       "      <td>False</td>\n",
       "      <td>None</td>\n",
       "      <td>{'columntransformer__simpleimputer__strategy':...</td>\n",
       "      <td>0.991583</td>\n",
       "      <td>0.989401</td>\n",
       "      <td>0.985351</td>\n",
       "      <td>0.993318</td>\n",
       "      <td>0.988636</td>\n",
       "      <td>0.989658</td>\n",
       "      <td>0.002711</td>\n",
       "      <td>11</td>\n",
       "    </tr>\n",
       "    <tr>\n",
       "      <th>6</th>\n",
       "      <td>0.009606</td>\n",
       "      <td>0.000106</td>\n",
       "      <td>0.002530</td>\n",
       "      <td>0.000121</td>\n",
       "      <td>median</td>\n",
       "      <td>False</td>\n",
       "      <td>None</td>\n",
       "      <td>{'columntransformer__simpleimputer__strategy':...</td>\n",
       "      <td>0.991566</td>\n",
       "      <td>0.989380</td>\n",
       "      <td>0.985343</td>\n",
       "      <td>0.993317</td>\n",
       "      <td>0.988609</td>\n",
       "      <td>0.989643</td>\n",
       "      <td>0.002714</td>\n",
       "      <td>15</td>\n",
       "    </tr>\n",
       "    <tr>\n",
       "      <th>10</th>\n",
       "      <td>0.010646</td>\n",
       "      <td>0.000424</td>\n",
       "      <td>0.002572</td>\n",
       "      <td>0.000105</td>\n",
       "      <td>median</td>\n",
       "      <td>True</td>\n",
       "      <td>mean</td>\n",
       "      <td>{'columntransformer__simpleimputer__strategy':...</td>\n",
       "      <td>0.991566</td>\n",
       "      <td>0.989380</td>\n",
       "      <td>0.985343</td>\n",
       "      <td>0.993317</td>\n",
       "      <td>0.988609</td>\n",
       "      <td>0.989643</td>\n",
       "      <td>0.002714</td>\n",
       "      <td>15</td>\n",
       "    </tr>\n",
       "    <tr>\n",
       "      <th>9</th>\n",
       "      <td>0.010397</td>\n",
       "      <td>0.000384</td>\n",
       "      <td>0.002718</td>\n",
       "      <td>0.000235</td>\n",
       "      <td>median</td>\n",
       "      <td>True</td>\n",
       "      <td>None</td>\n",
       "      <td>{'columntransformer__simpleimputer__strategy':...</td>\n",
       "      <td>0.991566</td>\n",
       "      <td>0.989380</td>\n",
       "      <td>0.985343</td>\n",
       "      <td>0.993317</td>\n",
       "      <td>0.988609</td>\n",
       "      <td>0.989643</td>\n",
       "      <td>0.002714</td>\n",
       "      <td>15</td>\n",
       "    </tr>\n",
       "    <tr>\n",
       "      <th>7</th>\n",
       "      <td>0.009669</td>\n",
       "      <td>0.000104</td>\n",
       "      <td>0.002506</td>\n",
       "      <td>0.000044</td>\n",
       "      <td>median</td>\n",
       "      <td>False</td>\n",
       "      <td>mean</td>\n",
       "      <td>{'columntransformer__simpleimputer__strategy':...</td>\n",
       "      <td>0.991566</td>\n",
       "      <td>0.989380</td>\n",
       "      <td>0.985343</td>\n",
       "      <td>0.993317</td>\n",
       "      <td>0.988609</td>\n",
       "      <td>0.989643</td>\n",
       "      <td>0.002714</td>\n",
       "      <td>15</td>\n",
       "    </tr>\n",
       "    <tr>\n",
       "      <th>17</th>\n",
       "      <td>0.011418</td>\n",
       "      <td>0.000132</td>\n",
       "      <td>0.002540</td>\n",
       "      <td>0.000053</td>\n",
       "      <td>most_frequent</td>\n",
       "      <td>True</td>\n",
       "      <td>median</td>\n",
       "      <td>{'columntransformer__simpleimputer__strategy':...</td>\n",
       "      <td>0.980868</td>\n",
       "      <td>0.990779</td>\n",
       "      <td>0.980084</td>\n",
       "      <td>0.988460</td>\n",
       "      <td>0.981824</td>\n",
       "      <td>0.984403</td>\n",
       "      <td>0.004357</td>\n",
       "      <td>19</td>\n",
       "    </tr>\n",
       "    <tr>\n",
       "      <th>14</th>\n",
       "      <td>0.010691</td>\n",
       "      <td>0.000159</td>\n",
       "      <td>0.002635</td>\n",
       "      <td>0.000052</td>\n",
       "      <td>most_frequent</td>\n",
       "      <td>False</td>\n",
       "      <td>median</td>\n",
       "      <td>{'columntransformer__simpleimputer__strategy':...</td>\n",
       "      <td>0.980868</td>\n",
       "      <td>0.990779</td>\n",
       "      <td>0.980084</td>\n",
       "      <td>0.988460</td>\n",
       "      <td>0.981824</td>\n",
       "      <td>0.984403</td>\n",
       "      <td>0.004357</td>\n",
       "      <td>20</td>\n",
       "    </tr>\n",
       "    <tr>\n",
       "      <th>15</th>\n",
       "      <td>0.015097</td>\n",
       "      <td>0.002265</td>\n",
       "      <td>0.003804</td>\n",
       "      <td>0.000638</td>\n",
       "      <td>most_frequent</td>\n",
       "      <td>True</td>\n",
       "      <td>None</td>\n",
       "      <td>{'columntransformer__simpleimputer__strategy':...</td>\n",
       "      <td>0.980444</td>\n",
       "      <td>0.990397</td>\n",
       "      <td>0.979111</td>\n",
       "      <td>0.987746</td>\n",
       "      <td>0.981563</td>\n",
       "      <td>0.983852</td>\n",
       "      <td>0.004412</td>\n",
       "      <td>21</td>\n",
       "    </tr>\n",
       "    <tr>\n",
       "      <th>16</th>\n",
       "      <td>0.011236</td>\n",
       "      <td>0.000285</td>\n",
       "      <td>0.002902</td>\n",
       "      <td>0.000289</td>\n",
       "      <td>most_frequent</td>\n",
       "      <td>True</td>\n",
       "      <td>mean</td>\n",
       "      <td>{'columntransformer__simpleimputer__strategy':...</td>\n",
       "      <td>0.980444</td>\n",
       "      <td>0.990397</td>\n",
       "      <td>0.979111</td>\n",
       "      <td>0.987746</td>\n",
       "      <td>0.981563</td>\n",
       "      <td>0.983852</td>\n",
       "      <td>0.004412</td>\n",
       "      <td>21</td>\n",
       "    </tr>\n",
       "    <tr>\n",
       "      <th>12</th>\n",
       "      <td>0.010588</td>\n",
       "      <td>0.000056</td>\n",
       "      <td>0.002550</td>\n",
       "      <td>0.000137</td>\n",
       "      <td>most_frequent</td>\n",
       "      <td>False</td>\n",
       "      <td>None</td>\n",
       "      <td>{'columntransformer__simpleimputer__strategy':...</td>\n",
       "      <td>0.980444</td>\n",
       "      <td>0.990397</td>\n",
       "      <td>0.979111</td>\n",
       "      <td>0.987746</td>\n",
       "      <td>0.981563</td>\n",
       "      <td>0.983852</td>\n",
       "      <td>0.004412</td>\n",
       "      <td>21</td>\n",
       "    </tr>\n",
       "    <tr>\n",
       "      <th>13</th>\n",
       "      <td>0.010334</td>\n",
       "      <td>0.000059</td>\n",
       "      <td>0.002574</td>\n",
       "      <td>0.000047</td>\n",
       "      <td>most_frequent</td>\n",
       "      <td>False</td>\n",
       "      <td>mean</td>\n",
       "      <td>{'columntransformer__simpleimputer__strategy':...</td>\n",
       "      <td>0.980444</td>\n",
       "      <td>0.990397</td>\n",
       "      <td>0.979111</td>\n",
       "      <td>0.987746</td>\n",
       "      <td>0.981563</td>\n",
       "      <td>0.983852</td>\n",
       "      <td>0.004412</td>\n",
       "      <td>21</td>\n",
       "    </tr>\n",
       "  </tbody>\n",
       "</table>\n",
       "</div>"
      ],
      "text/plain": [
       "    mean_fit_time  std_fit_time  mean_score_time  std_score_time  \\\n",
       "2        0.006726      0.000156         0.002551        0.000058   \n",
       "5        0.006695      0.000086         0.002560        0.000035   \n",
       "23       0.007288      0.001183         0.002692        0.000252   \n",
       "20       0.008219      0.001564         0.003697        0.000650   \n",
       "8        0.010751      0.001469         0.002969        0.000569   \n",
       "11       0.011590      0.001404         0.002992        0.000545   \n",
       "0        0.014632      0.003874         0.005510        0.001388   \n",
       "3        0.006635      0.000059         0.002606        0.000174   \n",
       "1        0.006700      0.000337         0.002474        0.000035   \n",
       "4        0.006606      0.000081         0.002419        0.000051   \n",
       "21       0.009527      0.000682         0.004521        0.000617   \n",
       "19       0.006499      0.000543         0.002468        0.000054   \n",
       "22       0.009838      0.000890         0.004160        0.000875   \n",
       "18       0.007413      0.001676         0.002518        0.000097   \n",
       "6        0.009606      0.000106         0.002530        0.000121   \n",
       "10       0.010646      0.000424         0.002572        0.000105   \n",
       "9        0.010397      0.000384         0.002718        0.000235   \n",
       "7        0.009669      0.000104         0.002506        0.000044   \n",
       "17       0.011418      0.000132         0.002540        0.000053   \n",
       "14       0.010691      0.000159         0.002635        0.000052   \n",
       "15       0.015097      0.002265         0.003804        0.000638   \n",
       "16       0.011236      0.000285         0.002902        0.000289   \n",
       "12       0.010588      0.000056         0.002550        0.000137   \n",
       "13       0.010334      0.000059         0.002574        0.000047   \n",
       "\n",
       "   param_columntransformer__simpleimputer__strategy  \\\n",
       "2                                              mean   \n",
       "5                                              mean   \n",
       "23                                         constant   \n",
       "20                                         constant   \n",
       "8                                            median   \n",
       "11                                           median   \n",
       "0                                              mean   \n",
       "3                                              mean   \n",
       "1                                              mean   \n",
       "4                                              mean   \n",
       "21                                         constant   \n",
       "19                                         constant   \n",
       "22                                         constant   \n",
       "18                                         constant   \n",
       "6                                            median   \n",
       "10                                           median   \n",
       "9                                            median   \n",
       "7                                            median   \n",
       "17                                    most_frequent   \n",
       "14                                    most_frequent   \n",
       "15                                    most_frequent   \n",
       "16                                    most_frequent   \n",
       "12                                    most_frequent   \n",
       "13                                    most_frequent   \n",
       "\n",
       "   param_linearregression__normalize param_selectfrommodel__threshold  \\\n",
       "2                              False                           median   \n",
       "5                               True                           median   \n",
       "23                              True                           median   \n",
       "20                             False                           median   \n",
       "8                              False                           median   \n",
       "11                              True                           median   \n",
       "0                              False                             None   \n",
       "3                               True                             None   \n",
       "1                              False                             mean   \n",
       "4                               True                             mean   \n",
       "21                              True                             None   \n",
       "19                             False                             mean   \n",
       "22                              True                             mean   \n",
       "18                             False                             None   \n",
       "6                              False                             None   \n",
       "10                              True                             mean   \n",
       "9                               True                             None   \n",
       "7                              False                             mean   \n",
       "17                              True                           median   \n",
       "14                             False                           median   \n",
       "15                              True                             None   \n",
       "16                              True                             mean   \n",
       "12                             False                             None   \n",
       "13                             False                             mean   \n",
       "\n",
       "                                               params  split0_test_score  \\\n",
       "2   {'columntransformer__simpleimputer__strategy':...           0.992061   \n",
       "5   {'columntransformer__simpleimputer__strategy':...           0.992061   \n",
       "23  {'columntransformer__simpleimputer__strategy':...           0.992084   \n",
       "20  {'columntransformer__simpleimputer__strategy':...           0.992084   \n",
       "8   {'columntransformer__simpleimputer__strategy':...           0.992067   \n",
       "11  {'columntransformer__simpleimputer__strategy':...           0.992067   \n",
       "0   {'columntransformer__simpleimputer__strategy':...           0.991560   \n",
       "3   {'columntransformer__simpleimputer__strategy':...           0.991560   \n",
       "1   {'columntransformer__simpleimputer__strategy':...           0.991560   \n",
       "4   {'columntransformer__simpleimputer__strategy':...           0.991560   \n",
       "21  {'columntransformer__simpleimputer__strategy':...           0.991583   \n",
       "19  {'columntransformer__simpleimputer__strategy':...           0.991583   \n",
       "22  {'columntransformer__simpleimputer__strategy':...           0.991583   \n",
       "18  {'columntransformer__simpleimputer__strategy':...           0.991583   \n",
       "6   {'columntransformer__simpleimputer__strategy':...           0.991566   \n",
       "10  {'columntransformer__simpleimputer__strategy':...           0.991566   \n",
       "9   {'columntransformer__simpleimputer__strategy':...           0.991566   \n",
       "7   {'columntransformer__simpleimputer__strategy':...           0.991566   \n",
       "17  {'columntransformer__simpleimputer__strategy':...           0.980868   \n",
       "14  {'columntransformer__simpleimputer__strategy':...           0.980868   \n",
       "15  {'columntransformer__simpleimputer__strategy':...           0.980444   \n",
       "16  {'columntransformer__simpleimputer__strategy':...           0.980444   \n",
       "12  {'columntransformer__simpleimputer__strategy':...           0.980444   \n",
       "13  {'columntransformer__simpleimputer__strategy':...           0.980444   \n",
       "\n",
       "    split1_test_score  split2_test_score  split3_test_score  \\\n",
       "2            0.989913           0.986155           0.993900   \n",
       "5            0.989913           0.986155           0.993900   \n",
       "23           0.989849           0.986147           0.993903   \n",
       "20           0.989849           0.986147           0.993903   \n",
       "8            0.989829           0.986138           0.993902   \n",
       "11           0.989829           0.986138           0.993902   \n",
       "0            0.989465           0.985360           0.993315   \n",
       "3            0.989465           0.985360           0.993315   \n",
       "1            0.989465           0.985360           0.993315   \n",
       "4            0.989465           0.985360           0.993315   \n",
       "21           0.989401           0.985351           0.993318   \n",
       "19           0.989401           0.985351           0.993318   \n",
       "22           0.989401           0.985351           0.993318   \n",
       "18           0.989401           0.985351           0.993318   \n",
       "6            0.989380           0.985343           0.993317   \n",
       "10           0.989380           0.985343           0.993317   \n",
       "9            0.989380           0.985343           0.993317   \n",
       "7            0.989380           0.985343           0.993317   \n",
       "17           0.990779           0.980084           0.988460   \n",
       "14           0.990779           0.980084           0.988460   \n",
       "15           0.990397           0.979111           0.987746   \n",
       "16           0.990397           0.979111           0.987746   \n",
       "12           0.990397           0.979111           0.987746   \n",
       "13           0.990397           0.979111           0.987746   \n",
       "\n",
       "    split4_test_score  mean_test_score  std_test_score  rank_test_score  \n",
       "2            0.988982         0.990202        0.002649                1  \n",
       "5            0.988982         0.990202        0.002649                1  \n",
       "23           0.988996         0.990196        0.002656                3  \n",
       "20           0.988996         0.990196        0.002656                4  \n",
       "8            0.988969         0.990181        0.002659                5  \n",
       "11           0.988969         0.990181        0.002659                5  \n",
       "0            0.988622         0.989665        0.002704                7  \n",
       "3            0.988622         0.989665        0.002704                7  \n",
       "1            0.988622         0.989665        0.002704                7  \n",
       "4            0.988622         0.989665        0.002704                7  \n",
       "21           0.988636         0.989658        0.002711               11  \n",
       "19           0.988636         0.989658        0.002711               11  \n",
       "22           0.988636         0.989658        0.002711               11  \n",
       "18           0.988636         0.989658        0.002711               11  \n",
       "6            0.988609         0.989643        0.002714               15  \n",
       "10           0.988609         0.989643        0.002714               15  \n",
       "9            0.988609         0.989643        0.002714               15  \n",
       "7            0.988609         0.989643        0.002714               15  \n",
       "17           0.981824         0.984403        0.004357               19  \n",
       "14           0.981824         0.984403        0.004357               20  \n",
       "15           0.981563         0.983852        0.004412               21  \n",
       "16           0.981563         0.983852        0.004412               21  \n",
       "12           0.981563         0.983852        0.004412               21  \n",
       "13           0.981563         0.983852        0.004412               21  "
      ]
     },
     "execution_count": 54,
     "metadata": {},
     "output_type": "execute_result"
    }
   ],
   "source": [
    "# Present the results\n",
    "pd.DataFrame(grid.cv_results_).sort_values('rank_test_score')"
   ]
  },
  {
   "cell_type": "code",
   "execution_count": 55,
   "metadata": {},
   "outputs": [
    {
     "data": {
      "text/plain": [
       "0.99"
      ]
     },
     "execution_count": 55,
     "metadata": {},
     "output_type": "execute_result"
    }
   ],
   "source": [
    "# Access the best score\n",
    "grid.best_score_.round(3)"
   ]
  },
  {
   "cell_type": "code",
   "execution_count": 56,
   "metadata": {},
   "outputs": [
    {
     "data": {
      "text/plain": [
       "{'columntransformer__simpleimputer__strategy': 'mean',\n",
       " 'linearregression__normalize': False,\n",
       " 'selectfrommodel__threshold': 'median'}"
      ]
     },
     "execution_count": 56,
     "metadata": {},
     "output_type": "execute_result"
    }
   ],
   "source": [
    "# Access the best hyperparameters\n",
    "grid.best_params_"
   ]
  },
  {
   "cell_type": "code",
   "execution_count": 57,
   "metadata": {},
   "outputs": [
    {
     "data": {
      "text/plain": [
       "array([  7.   , -12.979,   6.116,  -9.03 ,   3.03 ,   5.107,  -8.108])"
      ]
     },
     "execution_count": 57,
     "metadata": {},
     "output_type": "execute_result"
    }
   ],
   "source": [
    "# Display the regression coefficients of the features\n",
    "pipe.named_steps.linearregression.coef_.round(3)"
   ]
  },
  {
   "cell_type": "code",
   "execution_count": 58,
   "metadata": {},
   "outputs": [
    {
     "data": {
      "text/plain": [
       "68.972"
      ]
     },
     "execution_count": 58,
     "metadata": {},
     "output_type": "execute_result"
    }
   ],
   "source": [
    "# Display the regression intercept\n",
    "pipe.named_steps.linearregression.intercept_.round(3)"
   ]
  },
  {
   "cell_type": "code",
   "execution_count": 59,
   "metadata": {},
   "outputs": [
    {
     "data": {
      "text/plain": [
       "Index(['X1', 'X2', 'X3', 'X4', 'X5', 'X6', 'X7'], dtype='object')"
      ]
     },
     "execution_count": 59,
     "metadata": {},
     "output_type": "execute_result"
    }
   ],
   "source": [
    "# Show the selected features \n",
    "X.columns[selection.get_support()]"
   ]
  },
  {
   "cell_type": "code",
   "execution_count": 60,
   "metadata": {},
   "outputs": [],
   "source": [
    "# The true coefficients are:\n",
    "# intercept = 69\n",
    "# X1 = 7, X2 = -13, X3 = 6, X4 = -9\n",
    "# X5 = 3, X6 = 5, X7 = -8\n",
    "# X8 = 0, X9 = 0, X10 = 0, X11 = 0, X12 = 0, X13 = 0"
   ]
  },
  {
   "cell_type": "code",
   "execution_count": 61,
   "metadata": {},
   "outputs": [
    {
     "data": {
      "text/plain": [
       "0.99"
      ]
     },
     "execution_count": 61,
     "metadata": {},
     "output_type": "execute_result"
    }
   ],
   "source": [
    "# Cross-validate the updated pipeline\n",
    "cross_val_score(pipe, X_train, y_train, cv=5).mean().round(3)"
   ]
  },
  {
   "cell_type": "code",
   "execution_count": 62,
   "metadata": {},
   "outputs": [
    {
     "data": {
      "text/plain": [
       "2.063"
      ]
     },
     "execution_count": 62,
     "metadata": {},
     "output_type": "execute_result"
    }
   ],
   "source": [
    "end_time = datetime.now()\n",
    "round((end_time - start_time).total_seconds(), 3)"
   ]
  },
  {
   "cell_type": "markdown",
   "metadata": {},
   "source": [
    "# References\n",
    "\n",
    "## pandas\n",
    "\n",
    "- [API](https://pandas.pydata.org/docs/reference/index.html)\n",
    "\n",
    "- [isna](https://pandas.pydata.org/docs/reference/api/pandas.DataFrame.isna.html)\n",
    "\n",
    "- [mask](https://pandas.pydata.org/docs/reference/api/pandas.DataFrame.mask.html#pandas.DataFrame.mask)\n",
    "\n",
    "- [options.display.max_rows, options.display.max_columns](https://pandas.pydata.org/docs/reference/api/pandas.set_option.html#pandas.set_option)\n",
    "\n",
    "- [read_csv](https://pandas.pydata.org/docs/reference/api/pandas.read_csv.html#pandas.read_csv)\n",
    "\n",
    "- [shape](https://pandas.pydata.org/docs/reference/api/pandas.DataFrame.shape.html)\n",
    "\n",
    "## python\n",
    "\n",
    "- [library reference](https://docs.python.org/3/library/index.html)\n",
    "\n",
    "- [datetime](https://docs.python.org/3/library/datetime.html)\n",
    "\n",
    "## scikit-learn\n",
    "\n",
    "- [API](https://scikit-learn.org/stable/modules/classes.html#)\n",
    "\n",
    "- [compose module](https://scikit-learn.org/stable/modules/classes.html#module-sklearn.compose)\n",
    "\n",
    "- [compose.make_column_transformer function](https://scikit-learn.org/stable/modules/generated/sklearn.compose.make_column_transformer.html#sklearn.compose.make_column_transformer)\n",
    "\n",
    "- [feature_selection module](https://scikit-learn.org/stable/modules/classes.html#module-sklearn.feature_selection)\n",
    "\n",
    "- [feature_selection.SelectFromModel class](https://scikit-learn.org/stable/modules/generated/sklearn.feature_selection.SelectFromModel.html#sklearn.feature_selection.SelectFromModel)\n",
    "\n",
    "- [feature_selection.SelectFromModel.get_support() method](https://scikit-learn.org/stable/modules/generated/sklearn.feature_selection.SelectFromModel.html#sklearn.feature_selection.SelectFromModel.get_support)\n",
    "\n",
    "- [impute module](https://scikit-learn.org/stable/modules/classes.html#module-sklearn.impute)\n",
    "\n",
    "- [impute SimpleImputer class](https://scikit-learn.org/stable/modules/generated/sklearn.impute.SimpleImputer.html#sklearn.impute.SimpleImputer)\n",
    "\n",
    "- [linear_model module](https://scikit-learn.org/stable/modules/classes.html#module-sklearn.linear_model)\n",
    "\n",
    "- [linear_model.LinearRegression class](https://scikit-learn.org/stable/modules/generated/sklearn.linear_model.LinearRegression.html#sklearn.linear_model.LinearRegression)\n",
    "\n",
    "- [linear models User Guide](https://scikit-learn.org/stable/modules/linear_model.html#linear-model)\n",
    "\n",
    "- [linear regression example](https://scikit-learn.org/stable/modules/generated/sklearn.linear_model.LinearRegression.html#sklearn.linear_model.LinearRegression)\n",
    "\n",
    "- [model_selection module](https://scikit-learn.org/stable/modules/classes.html#module-sklearn.model_selection)\n",
    "\n",
    "- [model_selection cross_val_score function](https://scikit-learn.org/stable/modules/generated/sklearn.model_selection.cross_val_score.html#sklearn.model_selection.cross_val_score)\n",
    "\n",
    "- [model_selection GridSearchCV class](https://scikit-learn.org/stable/modules/generated/sklearn.model_selection.GridSearchCV.html#sklearn.model_selection.GridSearchCV)\n",
    "\n",
    "- [model_selection train_test_split function](https://scikit-learn.org/stable/modules/generated/sklearn.model_selection.train_test_split.html#sklearn.model_selection.train_test_split)\n",
    "\n",
    "- [pipeline module](https://scikit-learn.org/stable/modules/classes.html#module-sklearn.pipeline)\n",
    "\n",
    "- [pipeline.make_pipeline function](https://scikit-learn.org/stable/modules/generated/sklearn.pipeline.make_pipeline.html#sklearn.pipeline.make_pipeline)\n",
    "\n",
    "## Machine learning\n",
    "\n",
    "- [cross validation](https://en.wikipedia.org/wiki/Cross-validation_(statistics))\n",
    "\n",
    "- [feature selection](https://en.wikipedia.org/wiki/Feature_selection)\n",
    "\n",
    "- [hyperparameter optimization](https://en.wikipedia.org/wiki/Hyperparameter_optimization)\n",
    "\n",
    "- [imputation](https://en.wikipedia.org/wiki/Imputation_(statistics))\n",
    "\n",
    "- [linear regression](https://en.wikipedia.org/wiki/Linear_regression)"
   ]
  }
 ],
 "metadata": {
  "kernelspec": {
   "display_name": "Python 3",
   "language": "python",
   "name": "python3"
  },
  "language_info": {
   "codemirror_mode": {
    "name": "ipython",
    "version": 3
   },
   "file_extension": ".py",
   "mimetype": "text/x-python",
   "name": "python",
   "nbconvert_exporter": "python",
   "pygments_lexer": "ipython3",
   "version": "3.8.2"
  },
  "varInspector": {
   "cols": {
    "lenName": 16,
    "lenType": 16,
    "lenVar": 40
   },
   "kernels_config": {
    "python": {
     "delete_cmd_postfix": "",
     "delete_cmd_prefix": "del ",
     "library": "var_list.py",
     "varRefreshCmd": "print(var_dic_list())"
    },
    "r": {
     "delete_cmd_postfix": ") ",
     "delete_cmd_prefix": "rm(",
     "library": "var_list.r",
     "varRefreshCmd": "cat(var_dic_list()) "
    }
   },
   "types_to_exclude": [
    "module",
    "function",
    "builtin_function_or_method",
    "instance",
    "_Feature"
   ],
   "window_display": false
  }
 },
 "nbformat": 4,
 "nbformat_minor": 2
}
