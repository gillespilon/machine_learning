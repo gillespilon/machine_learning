{
 "cells": [
  {
   "cell_type": "markdown",
   "metadata": {},
   "source": [
    "# Python scikit-learn Machine Learning Workflow "
   ]
  },
  {
   "cell_type": "markdown",
   "metadata": {},
   "source": [
    "'''\n",
    "Python scikit-learn Machine Learning Workflow\n",
    "\n",
    "In this 1.5 h session you will learn how to build an efficient, reusable workflow that starts with a pandas DataFrame and ends with a trained scikit-learn linear regression model.\n",
    "\n",
    "Pandas\n",
    "-\tOverview of how to use pandas to read, describe, clean and prepare a dataset for machine learning\n",
    "scikit-learn\n",
    "-\tHandle missing data\n",
    "-\tCreate training and testing datasets\n",
    "-\tImpute missing values\n",
    "-\tPerform linear regression for a dependent variable of type float (target) and independent variables of type float or integer (features)\n",
    "-\tCreate a workflow pipeline\n",
    "-\tPerform n-fold cross validation on the entire pipeline\n",
    "-\tTune the hyperparameters of the model using grid search\n",
    "-\tPerform feature selection\n",
    "'''"
   ]
  },
  {
   "cell_type": "code",
   "execution_count": 1,
   "metadata": {},
   "outputs": [],
   "source": [
    "# Import libraries\n",
    "import pandas as pd"
   ]
  },
  {
   "cell_type": "code",
   "execution_count": 2,
   "metadata": {},
   "outputs": [],
   "source": [
    "# Set global parameters\n",
    "filename = 'lunch_and_learn.csv'"
   ]
  },
  {
   "cell_type": "code",
   "execution_count": 3,
   "metadata": {},
   "outputs": [],
   "source": [
    "# Read data file into a pandas DataFrame\n",
    "data = pd.read_csv(filename)"
   ]
  },
  {
   "cell_type": "code",
   "execution_count": 4,
   "metadata": {},
   "outputs": [
    {
     "data": {
      "text/plain": [
       "(5000, 14)"
      ]
     },
     "execution_count": 4,
     "metadata": {},
     "output_type": "execute_result"
    }
   ],
   "source": [
    "data.shape"
   ]
  },
  {
   "cell_type": "code",
   "execution_count": 5,
   "metadata": {},
   "outputs": [
    {
     "data": {
      "text/plain": [
       "Index(['X1', 'X2', 'X3', 'X4', 'X5', 'X6', 'X7', 'X8', 'X9', 'X10', 'X11',\n",
       "       'X12', 'X13', 'Y'],\n",
       "      dtype='object')"
      ]
     },
     "execution_count": 5,
     "metadata": {},
     "output_type": "execute_result"
    }
   ],
   "source": [
    "data.columns"
   ]
  },
  {
   "cell_type": "code",
   "execution_count": 6,
   "metadata": {},
   "outputs": [
    {
     "data": {
      "text/html": [
       "<div>\n",
       "<style scoped>\n",
       "    .dataframe tbody tr th:only-of-type {\n",
       "        vertical-align: middle;\n",
       "    }\n",
       "\n",
       "    .dataframe tbody tr th {\n",
       "        vertical-align: top;\n",
       "    }\n",
       "\n",
       "    .dataframe thead th {\n",
       "        text-align: right;\n",
       "    }\n",
       "</style>\n",
       "<table border=\"1\" class=\"dataframe\">\n",
       "  <thead>\n",
       "    <tr style=\"text-align: right;\">\n",
       "      <th></th>\n",
       "      <th>X1</th>\n",
       "      <th>X2</th>\n",
       "      <th>X3</th>\n",
       "      <th>X4</th>\n",
       "      <th>X5</th>\n",
       "      <th>X6</th>\n",
       "      <th>X7</th>\n",
       "      <th>X8</th>\n",
       "      <th>X9</th>\n",
       "      <th>X10</th>\n",
       "      <th>X11</th>\n",
       "      <th>X12</th>\n",
       "      <th>X13</th>\n",
       "      <th>Y</th>\n",
       "    </tr>\n",
       "  </thead>\n",
       "  <tbody>\n",
       "    <tr>\n",
       "      <th>0</th>\n",
       "      <td>-0.562021</td>\n",
       "      <td>1.043343</td>\n",
       "      <td>0.696816</td>\n",
       "      <td>-0.189681</td>\n",
       "      <td>0.633079</td>\n",
       "      <td>0.342155</td>\n",
       "      <td>-0.365107</td>\n",
       "      <td>2.013158</td>\n",
       "      <td>-4.627122</td>\n",
       "      <td>0.291391</td>\n",
       "      <td>-1.359770</td>\n",
       "      <td>9.299416</td>\n",
       "      <td>0.555481</td>\n",
       "      <td>60.993496</td>\n",
       "    </tr>\n",
       "    <tr>\n",
       "      <th>1</th>\n",
       "      <td>-0.020557</td>\n",
       "      <td>1.305215</td>\n",
       "      <td>0.611167</td>\n",
       "      <td>-0.047938</td>\n",
       "      <td>-0.032016</td>\n",
       "      <td>0.021054</td>\n",
       "      <td>-0.572075</td>\n",
       "      <td>-2.308974</td>\n",
       "      <td>2.390728</td>\n",
       "      <td>0.159002</td>\n",
       "      <td>-0.452501</td>\n",
       "      <td>3.256993</td>\n",
       "      <td>-0.004232</td>\n",
       "      <td>60.109317</td>\n",
       "    </tr>\n",
       "    <tr>\n",
       "      <th>2</th>\n",
       "      <td>2.769638</td>\n",
       "      <td>0.340073</td>\n",
       "      <td>-0.434665</td>\n",
       "      <td>-2.246398</td>\n",
       "      <td>-0.637302</td>\n",
       "      <td>-0.480945</td>\n",
       "      <td>0.226892</td>\n",
       "      <td>-3.395083</td>\n",
       "      <td>-0.408775</td>\n",
       "      <td>0.356323</td>\n",
       "      <td>-0.066215</td>\n",
       "      <td>-2.938287</td>\n",
       "      <td>-0.463020</td>\n",
       "      <td>91.812152</td>\n",
       "    </tr>\n",
       "    <tr>\n",
       "      <th>3</th>\n",
       "      <td>-6.988279</td>\n",
       "      <td>0.523329</td>\n",
       "      <td>-0.843785</td>\n",
       "      <td>1.216130</td>\n",
       "      <td>0.001059</td>\n",
       "      <td>-0.552828</td>\n",
       "      <td>2.392279</td>\n",
       "      <td>3.063360</td>\n",
       "      <td>-2.461017</td>\n",
       "      <td>1.036167</td>\n",
       "      <td>-0.406774</td>\n",
       "      <td>1.274303</td>\n",
       "      <td>0.535255</td>\n",
       "      <td>-25.207493</td>\n",
       "    </tr>\n",
       "    <tr>\n",
       "      <th>4</th>\n",
       "      <td>-0.042973</td>\n",
       "      <td>-0.441435</td>\n",
       "      <td>-0.164827</td>\n",
       "      <td>0.929786</td>\n",
       "      <td>-0.057137</td>\n",
       "      <td>-0.326923</td>\n",
       "      <td>-0.637193</td>\n",
       "      <td>0.642685</td>\n",
       "      <td>3.110585</td>\n",
       "      <td>6.674638</td>\n",
       "      <td>-0.463073</td>\n",
       "      <td>-1.857846</td>\n",
       "      <td>-1.573654</td>\n",
       "      <td>68.891226</td>\n",
       "    </tr>\n",
       "  </tbody>\n",
       "</table>\n",
       "</div>"
      ],
      "text/plain": [
       "         X1        X2        X3        X4        X5        X6        X7  \\\n",
       "0 -0.562021  1.043343  0.696816 -0.189681  0.633079  0.342155 -0.365107   \n",
       "1 -0.020557  1.305215  0.611167 -0.047938 -0.032016  0.021054 -0.572075   \n",
       "2  2.769638  0.340073 -0.434665 -2.246398 -0.637302 -0.480945  0.226892   \n",
       "3 -6.988279  0.523329 -0.843785  1.216130  0.001059 -0.552828  2.392279   \n",
       "4 -0.042973 -0.441435 -0.164827  0.929786 -0.057137 -0.326923 -0.637193   \n",
       "\n",
       "         X8        X9       X10       X11       X12       X13          Y  \n",
       "0  2.013158 -4.627122  0.291391 -1.359770  9.299416  0.555481  60.993496  \n",
       "1 -2.308974  2.390728  0.159002 -0.452501  3.256993 -0.004232  60.109317  \n",
       "2 -3.395083 -0.408775  0.356323 -0.066215 -2.938287 -0.463020  91.812152  \n",
       "3  3.063360 -2.461017  1.036167 -0.406774  1.274303  0.535255 -25.207493  \n",
       "4  0.642685  3.110585  6.674638 -0.463073 -1.857846 -1.573654  68.891226  "
      ]
     },
     "execution_count": 6,
     "metadata": {},
     "output_type": "execute_result"
    }
   ],
   "source": [
    "data.head()"
   ]
  }
 ],
 "metadata": {
  "kernelspec": {
   "display_name": "Python 3",
   "language": "python",
   "name": "python3"
  },
  "language_info": {
   "codemirror_mode": {
    "name": "ipython",
    "version": 3
   },
   "file_extension": ".py",
   "mimetype": "text/x-python",
   "name": "python",
   "nbconvert_exporter": "python",
   "pygments_lexer": "ipython3",
   "version": "3.8.2"
  },
  "varInspector": {
   "cols": {
    "lenName": 16,
    "lenType": 16,
    "lenVar": 40
   },
   "kernels_config": {
    "python": {
     "delete_cmd_postfix": "",
     "delete_cmd_prefix": "del ",
     "library": "var_list.py",
     "varRefreshCmd": "print(var_dic_list())"
    },
    "r": {
     "delete_cmd_postfix": ") ",
     "delete_cmd_prefix": "rm(",
     "library": "var_list.r",
     "varRefreshCmd": "cat(var_dic_list()) "
    }
   },
   "types_to_exclude": [
    "module",
    "function",
    "builtin_function_or_method",
    "instance",
    "_Feature"
   ],
   "window_display": false
  }
 },
 "nbformat": 4,
 "nbformat_minor": 2
}
