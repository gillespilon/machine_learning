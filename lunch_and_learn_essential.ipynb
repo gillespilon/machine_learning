{
 "cells": [
  {
   "cell_type": "markdown",
   "metadata": {},
   "source": [
    "# Python scikit-learn Machine Learning Workflow "
   ]
  },
  {
   "cell_type": "markdown",
   "metadata": {},
   "source": [
    "# Outcomes\n",
    "\n",
    "- Overview of scikit-learn for supervised machine learning\n",
    "- Create training and testing data sets\n",
    "- Create a workflow pipeline\n",
    "    - Add a column transformer object\n",
    "    - Add a feature selection object\n",
    "    - Add a regression object\n",
    "    - Fit a model\n",
    "    - Set hyperparameters for tuning\n",
    "    - Tune the model using grid search cross validation"
   ]
  },
  {
   "cell_type": "markdown",
   "metadata": {},
   "source": [
    "# Setting up"
   ]
  },
  {
   "cell_type": "code",
   "execution_count": 1,
   "metadata": {},
   "outputs": [],
   "source": [
    "# Import the libraries\n",
    "from datetime import datetime\n",
    "from typing import Tuple\n",
    "import matplotlib.axes as axes\n",
    "import matplotlib.cm as cm\n",
    "import matplotlib.pyplot as plt\n",
    "import numpy as np\n",
    "import pandas as pd\n",
    "from sklearn.compose import make_column_transformer\n",
    "from sklearn.ensemble import RandomForestRegressor\n",
    "from sklearn.feature_selection import SelectFromModel\n",
    "from sklearn.impute import SimpleImputer\n",
    "from sklearn.linear_model import Lasso, LassoCV, LinearRegression\n",
    "from sklearn.model_selection import cross_val_score,\\\n",
    "    cross_val_predict, GridSearchCV, train_test_split\n",
    "from sklearn.pipeline import make_pipeline, Pipeline\n",
    "from sklearn.tree import DecisionTreeRegressor\n",
    "from sklearn import set_config\n",
    "from xgboost import XGBRegressor"
   ]
  },
  {
   "cell_type": "code",
   "execution_count": 2,
   "metadata": {},
   "outputs": [],
   "source": [
    "# Set the global parameters\n",
    "pd.options.display.max_rows = None\n",
    "pd.options.display.max_columns = None\n",
    "file_name = 'lunch_and_learn.csv'\n",
    "graph_name = 'predicted_versus_measured'\n",
    "number_rows = 5000\n",
    "target = 'Y'\n",
    "features = [\n",
    "    'X1', 'X2', 'X3', 'X4', 'X5', 'X6', 'X7',\n",
    "    'X8', 'X9', 'X10', 'X11', 'X12', 'X13'\n",
    "]\n",
    "set_config(display='diagram')\n",
    "c = cm.Paired.colors\n",
    "label_predicted = 'Predicted'\n",
    "label_measured = 'Measured'\n",
    "title = 'Predicted versus Measured'\n",
    "figure_width_height = (8, 6)\n",
    "%matplotlib inline\n",
    "%config InlineBackend.figure_format = 'svg'"
   ]
  },
  {
   "cell_type": "code",
   "execution_count": 3,
   "metadata": {},
   "outputs": [],
   "source": [
    "def despine(ax: axes.Axes) -> None:\n",
    "    '''\n",
    "    Remove the top and right spines of a graph.\n",
    "    There is only one x axis, on the bottom,\n",
    "    and one y axis, on the left.\n",
    "    '''\n",
    "    for spine in 'right', 'top':\n",
    "        ax.spines[spine]. set_visible(False)"
   ]
  },
  {
   "cell_type": "code",
   "execution_count": 4,
   "metadata": {},
   "outputs": [],
   "source": [
    "def plot_time_series(\n",
    "    yvals: pd.Series,\n",
    "    ytext: str,\n",
    "    figwh: Tuple[int, int],\n",
    "    graphname: str\n",
    "):\n",
    "    '''\n",
    "    Scatter plot of y versus sample order\n",
    "    '''\n",
    "    fig = plt.figure(figsize=figwh)\n",
    "    ax = fig.add_subplot(111)\n",
    "    ax.plot(yvals, marker='.', linestyle='', color=c[1])\n",
    "    ax.set_ylabel(ytext)\n",
    "    ax.set_ylabel(ytext)\n",
    "    ax.set_title('Time Series')\n",
    "    despine(ax)\n",
    "    plt.savefig(f'{graphname}_time_series_{ytext}.svg')\n",
    "    # If you wish to see the graphs inline,\n",
    "    # comment the next line\n",
    "    # Otherwise graph files are saved to the current working directory\n",
    "    plt.close()"
   ]
  },
  {
   "cell_type": "code",
   "execution_count": 5,
   "metadata": {},
   "outputs": [],
   "source": [
    "def plot_scatter_line(\n",
    "    yvals: pd.Series,\n",
    "    xvals: np.ndarray,\n",
    "    ytext: str,\n",
    "    xtext: str,\n",
    "    titletext: str,\n",
    "    figwh: Tuple[int, int],\n",
    "    graphname: str\n",
    "):\n",
    "    '''\n",
    "    Scatter plot of y versus x\n",
    "    Line of perfect fit\n",
    "    '''\n",
    "    fig = plt.figure(figsize=figwh)\n",
    "    ax = fig.add_subplot(111)\n",
    "    ax.plot(yvals, xvals, marker='.', linestyle='', color=c[1])\n",
    "    ax.plot([yvals.min(), yvals.max()], [yvals.min(), yvals.max()],\n",
    "            marker=None, linestyle='-', color=c[5])\n",
    "    ax.set_ylabel(ytext)\n",
    "    ax.set_xlabel(xtext)\n",
    "    ax.set_title(titletext)\n",
    "    despine(ax)\n",
    "    plt.savefig(f'{graphname}_scatter.svg')"
   ]
  },
  {
   "cell_type": "code",
   "execution_count": 6,
   "metadata": {},
   "outputs": [],
   "source": [
    "def plot_line_line(\n",
    "    yvals1: pd.Series,\n",
    "    yvals2: np.ndarray,\n",
    "    yvals1text: str,\n",
    "    yvals2text: str,\n",
    "    titletext: str,\n",
    "    figwh: Tuple[int, int],\n",
    "    graphname: str\n",
    "):\n",
    "    '''\n",
    "    Two line plots of y1, y2\n",
    "    '''\n",
    "    fig = plt.figure(figsize=figwh)\n",
    "    ax = fig.add_subplot(111)\n",
    "    ax.plot(\n",
    "        yvals1, marker='.', linestyle='-',\n",
    "        color=c[0], label=yvals1text\n",
    "    )\n",
    "    ax.plot(\n",
    "        yvals2, marker='.', linestyle='-',\n",
    "        color=c[1], label=yvals2text\n",
    "    )\n",
    "    ax.set_title(titletext)\n",
    "    ax.legend(frameon=False)\n",
    "    despine(ax)\n",
    "    plt.savefig(f'{graphname}_lines.svg')"
   ]
  },
  {
   "cell_type": "markdown",
   "metadata": {},
   "source": [
    "# Cleaning the data\n",
    "\n",
    "Data should be cleaned before fitting a model. A simple example of graphing each feature in sample order and replacing outliers with NaN is shown."
   ]
  },
  {
   "cell_type": "code",
   "execution_count": 7,
   "metadata": {},
   "outputs": [],
   "source": [
    "# Read the data file into a pandas DataFrame\n",
    "data = pd.read_csv(file_name, nrows=number_rows)"
   ]
  },
  {
   "cell_type": "code",
   "execution_count": 8,
   "metadata": {
    "scrolled": false
   },
   "outputs": [],
   "source": [
    "# Plot target versus features\n",
    "for feature in features:\n",
    "    plot_time_series(\n",
    "        data[feature], feature, figure_width_height, graph_name\n",
    "    )"
   ]
  },
  {
   "cell_type": "code",
   "execution_count": 9,
   "metadata": {},
   "outputs": [],
   "source": [
    "# Set lower and upper values to remove outliers\n",
    "mask_values = [\n",
    "    ('X1', -20, 20),\n",
    "    ('X2', -25, 25),\n",
    "    ('X3', -5, 5),\n",
    "    ('X4', -10, 10),\n",
    "    ('X5', -3, 3),\n",
    "    ('X6', -5, 5),\n",
    "    ('X7', -13, 13),\n",
    "    ('X8', -9, 15),\n",
    "    ('X9', -17, 15),\n",
    "    ('X10', -16, 15),\n",
    "    ('X11', -16, 17),\n",
    "    ('X12', -16, 17),\n",
    "    ('X13', -20, 23)\n",
    "]\n",
    "# Replace outliers with NaN\n",
    "for column, lowvalue, highvalue in mask_values:\n",
    "    data[column]= data[column].mask(\n",
    "        (data[column] <= lowvalue) |\n",
    "        (data[column] >= highvalue)\n",
    "    )"
   ]
  },
  {
   "cell_type": "markdown",
   "metadata": {},
   "source": [
    "# Splitting the data"
   ]
  },
  {
   "cell_type": "code",
   "execution_count": 10,
   "metadata": {},
   "outputs": [],
   "source": [
    "# Create training and testing data sets\n",
    "X = data[features]\n",
    "y = data[target]\n",
    "X_train, X_test, y_train, y_test = train_test_split(\n",
    "    X, y, test_size=0.33, random_state=42\n",
    ")"
   ]
  },
  {
   "cell_type": "markdown",
   "metadata": {},
   "source": [
    "# Machine learning workflow\n",
    "\n",
    "A typical workflow involves several, sequential steps:\n",
    "\n",
    "- Column transformation such as imputing missing values\n",
    "- Feature selection\n",
    "- Modeling\n",
    "\n",
    "These steps are embedded in a workflow method called a pipeline, which is simply a series of sequential steps. The output of each step is passed to the next step."
   ]
  },
  {
   "cell_type": "markdown",
   "metadata": {},
   "source": [
    "# Workflow 1\n",
    "\n",
    "- Impute using the mean\n",
    "- Select features using SelectFromModel(DecisionTreeRegressor)\n",
    "- Fit with LinearRegression"
   ]
  },
  {
   "cell_type": "code",
   "execution_count": 11,
   "metadata": {},
   "outputs": [],
   "source": [
    "start_time = datetime.now()"
   ]
  },
  {
   "cell_type": "markdown",
   "metadata": {},
   "source": [
    "## Creating a column transformer"
   ]
  },
  {
   "cell_type": "code",
   "execution_count": 12,
   "metadata": {},
   "outputs": [],
   "source": [
    "# Create the imputer object with\n",
    "# the default hyperparameter settings\n",
    "imp = SimpleImputer()"
   ]
  },
  {
   "cell_type": "code",
   "execution_count": 13,
   "metadata": {},
   "outputs": [],
   "source": [
    "# Create the column transformer object\n",
    "ct = make_column_transformer(\n",
    "     (imp, features),\n",
    "     remainder='passthrough'\n",
    ")"
   ]
  },
  {
   "cell_type": "markdown",
   "metadata": {},
   "source": [
    "## Creating a feature selection object"
   ]
  },
  {
   "cell_type": "code",
   "execution_count": 14,
   "metadata": {},
   "outputs": [],
   "source": [
    "# Create objects to use for feature selection with\n",
    "# the default hyperparameter settings\n",
    "linreg_selection = LinearRegression()\n",
    "dtr_selection = DecisionTreeRegressor()\n",
    "lasso_selection = Lasso()\n",
    "lassocv_selection = LassoCV()\n",
    "rfr_selection = RandomForestRegressor()"
   ]
  },
  {
   "cell_type": "code",
   "execution_count": 15,
   "metadata": {},
   "outputs": [],
   "source": [
    "# Create the feature selection object\n",
    "selection = SelectFromModel(estimator=dtr_selection)"
   ]
  },
  {
   "cell_type": "markdown",
   "metadata": {},
   "source": [
    "## Creating a regression object"
   ]
  },
  {
   "cell_type": "code",
   "execution_count": 16,
   "metadata": {},
   "outputs": [],
   "source": [
    "# Create an object to use for regression with\n",
    "# the default hyperparameter settings\n",
    "linreg = LinearRegression()\n",
    "dtr = DecisionTreeRegressor()\n",
    "lasso = Lasso()\n",
    "lassocv = LassoCV()\n",
    "rfr = RandomForestRegressor()\n",
    "xgb = XGBRegressor()"
   ]
  },
  {
   "cell_type": "markdown",
   "metadata": {},
   "source": [
    "## Create a workflow object"
   ]
  },
  {
   "cell_type": "code",
   "execution_count": 17,
   "metadata": {},
   "outputs": [
    {
     "data": {
      "text/html": [
       "<style>div.sk-top-container {color: black;background-color: white;}div.sk-toggleable {background-color: white;}label.sk-toggleable__label {cursor: pointer;display: block;width: 100%;margin-bottom: 0;padding: 0.2em 0.3em;box-sizing: border-box;text-align: center;}div.sk-toggleable__content {max-height: 0;max-width: 0;overflow: hidden;text-align: left;background-color: #f0f8ff;}div.sk-toggleable__content pre {margin: 0.2em;color: black;border-radius: 0.25em;background-color: #f0f8ff;}input.sk-toggleable__control:checked~div.sk-toggleable__content {max-height: 200px;max-width: 100%;overflow: auto;}div.sk-estimator input.sk-toggleable__control:checked~label.sk-toggleable__label {background-color: #d4ebff;}div.sk-label input.sk-toggleable__control:checked~label.sk-toggleable__label {background-color: #d4ebff;}input.sk-hidden--visually {border: 0;clip: rect(1px 1px 1px 1px);clip: rect(1px, 1px, 1px, 1px);height: 1px;margin: -1px;overflow: hidden;padding: 0;position: absolute;width: 1px;}div.sk-estimator {font-family: monospace;background-color: #f0f8ff;margin: 0.25em 0.25em;border: 1px dotted black;border-radius: 0.25em;box-sizing: border-box;}div.sk-estimator:hover {background-color: #d4ebff;}div.sk-parallel-item::after {content: \"\";width: 100%;border-bottom: 1px solid gray;flex-grow: 1;}div.sk-label:hover label.sk-toggleable__label {background-color: #d4ebff;}div.sk-serial::before {content: \"\";position: absolute;border-left: 1px solid gray;box-sizing: border-box;top: 2em;bottom: 0;left: 50%;}div.sk-serial {display: flex;flex-direction: column;align-items: center;background-color: white;}div.sk-item {z-index: 1;}div.sk-parallel {display: flex;align-items: stretch;justify-content: center;background-color: white;}div.sk-parallel-item {display: flex;flex-direction: column;position: relative;background-color: white;}div.sk-parallel-item:first-child::after {align-self: flex-end;width: 50%;}div.sk-parallel-item:last-child::after {align-self: flex-start;width: 50%;}div.sk-parallel-item:only-child::after {width: 0;}div.sk-dashed-wrapped {border: 1px dashed gray;margin: 0.2em;box-sizing: border-box;padding-bottom: 0.1em;background-color: white;position: relative;}div.sk-label label {font-family: monospace;font-weight: bold;background-color: white;display: inline-block;line-height: 1.2em;}div.sk-label-container {position: relative;z-index: 2;text-align: center;}div.sk-container {display: inline-block;position: relative;}</style><div class=\"sk-top-container\"><div class=\"sk-container\"><div class=\"sk-item sk-dashed-wrapped\"><div class=\"sk-label-container\"><div class=\"sk-label sk-toggleable\"><input class=\"sk-toggleable__control sk-hidden--visually\" id=\"ac7b3ebc-dd4a-4286-9dd1-5bcba0b39ed8\" type=\"checkbox\" ><label class=\"sk-toggleable__label\" for=\"ac7b3ebc-dd4a-4286-9dd1-5bcba0b39ed8\">Pipeline</label><div class=\"sk-toggleable__content\"><pre>Pipeline(steps=[('transformer',\n",
       "                 ColumnTransformer(remainder='passthrough',\n",
       "                                   transformers=[('simpleimputer',\n",
       "                                                  SimpleImputer(),\n",
       "                                                  ['X1', 'X2', 'X3', 'X4', 'X5',\n",
       "                                                   'X6', 'X7', 'X8', 'X9',\n",
       "                                                   'X10', 'X11', 'X12',\n",
       "                                                   'X13'])])),\n",
       "                ('selector',\n",
       "                 SelectFromModel(estimator=DecisionTreeRegressor())),\n",
       "                ('regressor', LinearRegression())])</pre></div></div></div><div class=\"sk-serial\"><div class=\"sk-item sk-dashed-wrapped\"><div class=\"sk-label-container\"><div class=\"sk-label sk-toggleable\"><input class=\"sk-toggleable__control sk-hidden--visually\" id=\"3a26ce23-979f-46e8-8c74-ca9b22ce5bdc\" type=\"checkbox\" ><label class=\"sk-toggleable__label\" for=\"3a26ce23-979f-46e8-8c74-ca9b22ce5bdc\">transformer: ColumnTransformer</label><div class=\"sk-toggleable__content\"><pre>ColumnTransformer(remainder='passthrough',\n",
       "                  transformers=[('simpleimputer', SimpleImputer(),\n",
       "                                 ['X1', 'X2', 'X3', 'X4', 'X5', 'X6', 'X7',\n",
       "                                  'X8', 'X9', 'X10', 'X11', 'X12', 'X13'])])</pre></div></div></div><div class=\"sk-parallel\"><div class=\"sk-parallel-item\"><div class=\"sk-item\"><div class=\"sk-label-container\"><div class=\"sk-label sk-toggleable\"><input class=\"sk-toggleable__control sk-hidden--visually\" id=\"dd7aaad9-b521-42ab-9878-b8c1e7bdbc98\" type=\"checkbox\" ><label class=\"sk-toggleable__label\" for=\"dd7aaad9-b521-42ab-9878-b8c1e7bdbc98\">simpleimputer</label><div class=\"sk-toggleable__content\"><pre>['X1', 'X2', 'X3', 'X4', 'X5', 'X6', 'X7', 'X8', 'X9', 'X10', 'X11', 'X12', 'X13']</pre></div></div></div><div class=\"sk-serial\"><div class=\"sk-item\"><div class=\"sk-estimator sk-toggleable\"><input class=\"sk-toggleable__control sk-hidden--visually\" id=\"2b6bb4af-0f8d-4a9a-9662-24efd2f06bf8\" type=\"checkbox\" ><label class=\"sk-toggleable__label\" for=\"2b6bb4af-0f8d-4a9a-9662-24efd2f06bf8\">SimpleImputer</label><div class=\"sk-toggleable__content\"><pre>SimpleImputer()</pre></div></div></div></div></div></div></div></div><div class=\"sk-item sk-dashed-wrapped\"><div class=\"sk-label-container\"><div class=\"sk-label sk-toggleable\"><input class=\"sk-toggleable__control sk-hidden--visually\" id=\"2ed52a6c-672f-428c-b088-cf522a73e94f\" type=\"checkbox\" ><label class=\"sk-toggleable__label\" for=\"2ed52a6c-672f-428c-b088-cf522a73e94f\">selector: SelectFromModel</label><div class=\"sk-toggleable__content\"><pre>SelectFromModel(estimator=DecisionTreeRegressor())</pre></div></div></div><div class=\"sk-parallel\"><div class=\"sk-parallel-item\"><div class=\"sk-item\"><div class=\"sk-serial\"><div class=\"sk-item\"><div class=\"sk-estimator sk-toggleable\"><input class=\"sk-toggleable__control sk-hidden--visually\" id=\"ab8520bb-13f8-48cf-9cfd-80535b4fe4dd\" type=\"checkbox\" ><label class=\"sk-toggleable__label\" for=\"ab8520bb-13f8-48cf-9cfd-80535b4fe4dd\">DecisionTreeRegressor</label><div class=\"sk-toggleable__content\"><pre>DecisionTreeRegressor()</pre></div></div></div></div></div></div></div></div><div class=\"sk-item\"><div class=\"sk-estimator sk-toggleable\"><input class=\"sk-toggleable__control sk-hidden--visually\" id=\"e65abd35-b4a7-4641-b773-27537220f957\" type=\"checkbox\" ><label class=\"sk-toggleable__label\" for=\"e65abd35-b4a7-4641-b773-27537220f957\">LinearRegression</label><div class=\"sk-toggleable__content\"><pre>LinearRegression()</pre></div></div></div></div></div></div></div>"
      ],
      "text/plain": [
       "Pipeline(steps=[('transformer',\n",
       "                 ColumnTransformer(remainder='passthrough',\n",
       "                                   transformers=[('simpleimputer',\n",
       "                                                  SimpleImputer(),\n",
       "                                                  ['X1', 'X2', 'X3', 'X4', 'X5',\n",
       "                                                   'X6', 'X7', 'X8', 'X9',\n",
       "                                                   'X10', 'X11', 'X12',\n",
       "                                                   'X13'])])),\n",
       "                ('selector',\n",
       "                 SelectFromModel(estimator=DecisionTreeRegressor())),\n",
       "                ('regressor', LinearRegression())])"
      ]
     },
     "execution_count": 17,
     "metadata": {},
     "output_type": "execute_result"
    }
   ],
   "source": [
    "# Create the workflow object\n",
    "pipe = Pipeline(\n",
    "    steps=[\n",
    "        ('transformer', ct),\n",
    "        ('selector', selection),\n",
    "        ('regressor', linreg)\n",
    "    ]\n",
    ")\n",
    "pipe"
   ]
  },
  {
   "cell_type": "code",
   "execution_count": 18,
   "metadata": {
    "scrolled": true
   },
   "outputs": [],
   "source": [
    "# Determine the linear regression model\n",
    "pipe.fit(X_train, y_train);"
   ]
  },
  {
   "cell_type": "code",
   "execution_count": 19,
   "metadata": {},
   "outputs": [
    {
     "data": {
      "text/plain": [
       "Index(['X1', 'X2', 'X4', 'X7'], dtype='object')"
      ]
     },
     "execution_count": 19,
     "metadata": {},
     "output_type": "execute_result"
    }
   ],
   "source": [
    "# Show the selected features \n",
    "X.columns[selection.get_support()]"
   ]
  },
  {
   "cell_type": "code",
   "execution_count": 20,
   "metadata": {},
   "outputs": [
    {
     "data": {
      "text/plain": [
       "69.038"
      ]
     },
     "execution_count": 20,
     "metadata": {},
     "output_type": "execute_result"
    }
   ],
   "source": [
    "# Display the regression intercept\n",
    "pipe.named_steps.regressor.intercept_.round(3)"
   ]
  },
  {
   "cell_type": "code",
   "execution_count": 21,
   "metadata": {},
   "outputs": [
    {
     "data": {
      "text/plain": [
       "array([  7.028, -12.998,  -9.061,  -8.146])"
      ]
     },
     "execution_count": 21,
     "metadata": {},
     "output_type": "execute_result"
    }
   ],
   "source": [
    "# Display the regression coefficients of the features\n",
    "pipe.named_steps.regressor.coef_.round(3)"
   ]
  },
  {
   "cell_type": "markdown",
   "metadata": {},
   "source": [
    "## Cross-validation"
   ]
  },
  {
   "cell_type": "markdown",
   "metadata": {},
   "source": [
    "Cross validation estimates how accurately a predictive model will perform in practice. The model is fitted using the training data set and tested using the testing data set. cross_val_score performs the columns transformations, specified in column transformer, after each of the data splits in order to prevent data leakage."
   ]
  },
  {
   "cell_type": "code",
   "execution_count": 22,
   "metadata": {
    "scrolled": true
   },
   "outputs": [
    {
     "data": {
      "text/plain": [
       "0.979"
      ]
     },
     "execution_count": 22,
     "metadata": {},
     "output_type": "execute_result"
    }
   ],
   "source": [
    "# Cross-validate the updated pipeline\n",
    "cross_val_score(pipe, X_train, y_train, cv=5).mean().round(3)"
   ]
  },
  {
   "cell_type": "markdown",
   "metadata": {},
   "source": [
    "Is this the best score? Should we explore other methods for feature selection? Should we use other than the default setting for the hyperparameters?"
   ]
  },
  {
   "cell_type": "markdown",
   "metadata": {},
   "source": [
    "## Hyperparameter optimization"
   ]
  },
  {
   "cell_type": "markdown",
   "metadata": {},
   "source": [
    "Hyperparameters are values you set, such as 'mean' in SimpleImputer(). Parameters are values learned in the fit step. We tune the hyperparameters for all of the objects in the pipeline. You define the values to try for each hyperparameter. GridSearchCV performs cross-validation for every possible combination of these values for the entire pipeline."
   ]
  },
  {
   "cell_type": "code",
   "execution_count": 23,
   "metadata": {},
   "outputs": [],
   "source": [
    "# Set the hyperparameters for optimization\n",
    "# Create a dictionary\n",
    "# The dictionary key is the step name, followed by two underscores,\n",
    "# followed by the hyperparameter name\n",
    "# The dictionary value is the list of values to try per hyperparameter"
   ]
  },
  {
   "cell_type": "code",
   "execution_count": 24,
   "metadata": {},
   "outputs": [],
   "source": [
    "# 4 x 3 x 3 x 2 = 72\n",
    "hyperparams = [\n",
    "    {\n",
    "        'transformer': [imp],\n",
    "        'transformer__strategy': [\n",
    "            'mean', 'median', 'most_frequent', 'constant'\n",
    "        ],\n",
    "        'selector': [SelectFromModel(estimator=dtr_selection)],\n",
    "        'selector__threshold': [None, 'mean', 'median'],\n",
    "        'selector__estimator__criterion': [\n",
    "            'mse', 'friedman_mse', 'mae'\n",
    "        ],\n",
    "#         'selector__estimator__splitter': ['best', 'random'],\n",
    "#         'selector__estimator__max_features': [\n",
    "#             None, 'auto', 'sqrt', 'log2'\n",
    "#         ],\n",
    "#         'selector__estimator__max_leaf_nodes': [None, 2, 4, 6],\n",
    "        'regressor': [linreg],\n",
    "        'regressor__normalize': [False, True]\n",
    "    },\n",
    "\n",
    "]"
   ]
  },
  {
   "cell_type": "code",
   "execution_count": 25,
   "metadata": {},
   "outputs": [
    {
     "data": {
      "text/plain": [
       "\"\\nhyperparams.append(\\n    {\\n        'transformer': [imp],\\n        'transformer__strategy': [\\n            'mean', 'median', 'most_frequent', 'constant'\\n        ],\\n        'selector': [SelectFromModel(estimator=linreg_selection)],\\n        'selector__threshold': [None, 'mean', 'median'],\\n        'selector__estimator__normalize': [False, True],\\n        'regressor': [linreg],\\n        'regressor__normalize': [False, True]\\n    },\\n)\\n\""
      ]
     },
     "execution_count": 25,
     "metadata": {},
     "output_type": "execute_result"
    }
   ],
   "source": [
    "'''\n",
    "hyperparams.append(\n",
    "    {\n",
    "        'transformer': [imp],\n",
    "        'transformer__strategy': [\n",
    "            'mean', 'median', 'most_frequent', 'constant'\n",
    "        ],\n",
    "        'selector': [SelectFromModel(estimator=linreg_selection)],\n",
    "        'selector__threshold': [None, 'mean', 'median'],\n",
    "        'selector__estimator__normalize': [False, True],\n",
    "        'regressor': [linreg],\n",
    "        'regressor__normalize': [False, True]\n",
    "    },\n",
    ")\n",
    "'''"
   ]
  },
  {
   "cell_type": "code",
   "execution_count": 26,
   "metadata": {},
   "outputs": [
    {
     "data": {
      "text/plain": [
       "\"\\nhyperparams.append(\\n   {\\n        'transformer': [imp],\\n        'transformer__strategy': [\\n            'mean', 'median', 'most_frequent', 'constant'\\n        ],\\n        'selector': [SelectFromModel(estimator=lasso_selection)],\\n        'selector__threshold': [None, 'mean', 'median'],\\n        'selector__estimator__normalize': [False, True],\\n        'regressor': [linreg],\\n        'regressor__normalize': [False, True]\\n    },\\n)\\n\""
      ]
     },
     "execution_count": 26,
     "metadata": {},
     "output_type": "execute_result"
    }
   ],
   "source": [
    "'''\n",
    "hyperparams.append(\n",
    "   {\n",
    "        'transformer': [imp],\n",
    "        'transformer__strategy': [\n",
    "            'mean', 'median', 'most_frequent', 'constant'\n",
    "        ],\n",
    "        'selector': [SelectFromModel(estimator=lasso_selection)],\n",
    "        'selector__threshold': [None, 'mean', 'median'],\n",
    "        'selector__estimator__normalize': [False, True],\n",
    "        'regressor': [linreg],\n",
    "        'regressor__normalize': [False, True]\n",
    "    },\n",
    ")\n",
    "'''"
   ]
  },
  {
   "cell_type": "code",
   "execution_count": 27,
   "metadata": {},
   "outputs": [],
   "source": [
    "# 4 x 3 x 2 x 2 = 48\n",
    "hyperparams.append(\n",
    "   {\n",
    "        'transformer': [imp],\n",
    "        'transformer__strategy': [\n",
    "            'mean', 'median', 'most_frequent', 'constant'\n",
    "        ],\n",
    "        'selector': [SelectFromModel(estimator=lassocv_selection)],\n",
    "        'selector__threshold': [None, 'mean', 'median'],\n",
    "        'selector__estimator__normalize': [False, True],\n",
    "        'regressor': [linreg],\n",
    "        'regressor__normalize': [False, True]\n",
    "    },\n",
    ")"
   ]
  },
  {
   "cell_type": "code",
   "execution_count": 28,
   "metadata": {},
   "outputs": [
    {
     "data": {
      "text/plain": [
       "\"\\nhyperparams.append(\\n\\n    {\\n\\n        'transformer': [imp],\\n\\n        'transformer__strategy': [\\n\\n            'mean', 'median', 'most_frequent', 'constant'\\n\\n        ],\\n\\n        'selector': [SelectFromModel(estimator=rfr_selection)],\\n\\n        'selector__threshold': [None, 'mean', 'median'],\\n\\n        'selector__estimator__criterion': ['mse', 'mae'],\\n\\n        'regressor': [linreg],\\n\\n        'regressor__normalize': [False, True]\\n\\n    },\\n\\n)\\n\""
      ]
     },
     "execution_count": 28,
     "metadata": {},
     "output_type": "execute_result"
    }
   ],
   "source": [
    "'''\n",
    "hyperparams.append(\n",
    "\n",
    "    {\n",
    "\n",
    "        'transformer': [imp],\n",
    "\n",
    "        'transformer__strategy': [\n",
    "\n",
    "            'mean', 'median', 'most_frequent', 'constant'\n",
    "\n",
    "        ],\n",
    "\n",
    "        'selector': [SelectFromModel(estimator=rfr_selection)],\n",
    "\n",
    "        'selector__threshold': [None, 'mean', 'median'],\n",
    "\n",
    "        'selector__estimator__criterion': ['mse', 'mae'],\n",
    "\n",
    "        'regressor': [linreg],\n",
    "\n",
    "        'regressor__normalize': [False, True]\n",
    "\n",
    "    },\n",
    "\n",
    ")\n",
    "'''"
   ]
  },
  {
   "cell_type": "code",
   "execution_count": null,
   "metadata": {
    "scrolled": false
   },
   "outputs": [],
   "source": [
    "# Perform a grid search\n",
    "grid = GridSearchCV(pipe, hyperparams, cv=5)\n",
    "grid.fit(X_train, y_train);"
   ]
  },
  {
   "cell_type": "code",
   "execution_count": null,
   "metadata": {
    "scrolled": false
   },
   "outputs": [],
   "source": [
    "# Present the results\n",
    "pd.DataFrame(grid.cv_results_).sort_values('rank_test_score');"
   ]
  },
  {
   "cell_type": "code",
   "execution_count": null,
   "metadata": {},
   "outputs": [],
   "source": [
    "# Access the best score\n",
    "grid.best_score_.round(3)"
   ]
  },
  {
   "cell_type": "code",
   "execution_count": null,
   "metadata": {},
   "outputs": [],
   "source": [
    "# Access the best hyperparameters\n",
    "grid.best_params_"
   ]
  },
  {
   "cell_type": "code",
   "execution_count": null,
   "metadata": {},
   "outputs": [],
   "source": [
    "end_time = datetime.now()\n",
    "round((end_time - start_time).total_seconds(), 3)"
   ]
  },
  {
   "cell_type": "markdown",
   "metadata": {},
   "source": [
    "# Workflow 2\n",
    "\n",
    "- Impute using the mean\n",
    "- Select features using SelectFromModel(LassoCV())\n",
    "- Fit with LinearRegression()"
   ]
  },
  {
   "cell_type": "code",
   "execution_count": null,
   "metadata": {},
   "outputs": [],
   "source": [
    "start_time = datetime.now()"
   ]
  },
  {
   "cell_type": "markdown",
   "metadata": {},
   "source": [
    "## Creating a column transformer"
   ]
  },
  {
   "cell_type": "code",
   "execution_count": null,
   "metadata": {},
   "outputs": [],
   "source": [
    "# Create the imputer object\n",
    "imp = SimpleImputer()"
   ]
  },
  {
   "cell_type": "code",
   "execution_count": null,
   "metadata": {},
   "outputs": [],
   "source": [
    "# Create the column transformer object\n",
    "ct = make_column_transformer(\n",
    "     (imp, features),\n",
    "     remainder='passthrough'\n",
    ")"
   ]
  },
  {
   "cell_type": "markdown",
   "metadata": {},
   "source": [
    "## Creating a feature selection object"
   ]
  },
  {
   "cell_type": "code",
   "execution_count": null,
   "metadata": {},
   "outputs": [],
   "source": [
    "# Create the object to use for feature selection\n",
    "lassocv_selection = LassoCV()"
   ]
  },
  {
   "cell_type": "code",
   "execution_count": null,
   "metadata": {},
   "outputs": [],
   "source": [
    "# Create the feature selection object\n",
    "selection = SelectFromModel(\n",
    "    estimator=lassocv_selection,\n",
    "    threshold='median'\n",
    ")"
   ]
  },
  {
   "cell_type": "markdown",
   "metadata": {},
   "source": [
    "## Creating a regression object"
   ]
  },
  {
   "cell_type": "code",
   "execution_count": null,
   "metadata": {},
   "outputs": [],
   "source": [
    "# Create objects to use for regression\n",
    "linreg = LinearRegression()"
   ]
  },
  {
   "cell_type": "markdown",
   "metadata": {},
   "source": [
    "## Create a workflow object"
   ]
  },
  {
   "cell_type": "code",
   "execution_count": null,
   "metadata": {},
   "outputs": [],
   "source": [
    "# Create the workflow object\n",
    "pipe = make_pipeline(ct, selection, linreg)\n",
    "pipe"
   ]
  },
  {
   "cell_type": "code",
   "execution_count": null,
   "metadata": {},
   "outputs": [],
   "source": [
    "# Determine the linear regression model\n",
    "pipe.fit(X_train, y_train);"
   ]
  },
  {
   "cell_type": "code",
   "execution_count": null,
   "metadata": {},
   "outputs": [],
   "source": [
    "# Show the selected features \n",
    "X.columns[selection.get_support()]"
   ]
  },
  {
   "cell_type": "code",
   "execution_count": null,
   "metadata": {},
   "outputs": [],
   "source": [
    "# Display the regression intercept\n",
    "pipe.named_steps.linearregression.intercept_.round(3)"
   ]
  },
  {
   "cell_type": "code",
   "execution_count": null,
   "metadata": {},
   "outputs": [],
   "source": [
    "# Display the regression coefficients of the features\n",
    "pipe.named_steps.linearregression.coef_.round(3)"
   ]
  },
  {
   "cell_type": "code",
   "execution_count": null,
   "metadata": {
    "scrolled": true
   },
   "outputs": [],
   "source": [
    "# Cross-validate the updated pipeline\n",
    "cross_val_score(pipe, X_train, y_train, cv=5).mean().round(3)"
   ]
  },
  {
   "cell_type": "code",
   "execution_count": null,
   "metadata": {},
   "outputs": [],
   "source": [
    "# Calculate predicted values\n",
    "predicted = cross_val_predict(pipe, X, y, cv=5)"
   ]
  },
  {
   "cell_type": "code",
   "execution_count": null,
   "metadata": {},
   "outputs": [],
   "source": [
    "# Plot predicted versus measured\n",
    "plot_scatter_line(\n",
    "    y, predicted, label_predicted, label_measured, title,\n",
    "    figure_width_height, graph_name\n",
    ")"
   ]
  },
  {
   "cell_type": "code",
   "execution_count": null,
   "metadata": {},
   "outputs": [],
   "source": [
    "# Plot predicted versus measured\n",
    "plot_line_line(y, predicted, label_measured, label_predicted, title,\n",
    "               figure_width_height, graph_name)"
   ]
  },
  {
   "cell_type": "code",
   "execution_count": null,
   "metadata": {
    "scrolled": true
   },
   "outputs": [],
   "source": [
    "end_time = datetime.now()\n",
    "round((end_time - start_time).total_seconds(), 3)"
   ]
  },
  {
   "cell_type": "markdown",
   "metadata": {},
   "source": [
    "# References\n",
    "\n",
    "## numpy\n",
    "\n",
    "- [API](https://numpy.org/devdocs/reference/index.html)\n",
    "\n",
    "## pandas\n",
    "\n",
    "- [API](https://pandas.pydata.org/docs/reference/index.html)\n",
    "\n",
    "- [isna](https://pandas.pydata.org/docs/reference/api/pandas.DataFrame.isna.html)\n",
    "\n",
    "- [mask](https://pandas.pydata.org/docs/reference/api/pandas.DataFrame.mask.html#pandas.DataFrame.mask)\n",
    "\n",
    "- [options.display.max_rows, options.display.max_columns](https://pandas.pydata.org/docs/reference/api/pandas.set_option.html#pandas.set_option)\n",
    "\n",
    "- [read_csv](https://pandas.pydata.org/docs/reference/api/pandas.read_csv.html#pandas.read_csv)\n",
    "\n",
    "- [shape](https://pandas.pydata.org/docs/reference/api/pandas.DataFrame.shape.html)\n",
    "\n",
    "## python\n",
    "\n",
    "- [library reference](https://docs.python.org/3/library/index.html)\n",
    "\n",
    "- [datetime](https://docs.python.org/3/library/datetime.html)\n",
    "\n",
    "## scikit-learn\n",
    "\n",
    "- [API](https://scikit-learn.org/stable/modules/classes.html#)\n",
    "\n",
    "- [compose module](https://scikit-learn.org/stable/modules/classes.html#module-sklearn.compose)\n",
    "\n",
    "- [compose.make_column_transformer function](https://scikit-learn.org/stable/modules/generated/sklearn.compose.make_column_transformer.html#sklearn.compose.make_column_transformer)\n",
    "\n",
    "- [ensemble module](https://scikit-learn.org/stable/modules/classes.html#module-sklearn.ensemble)\n",
    "\n",
    "- [ensemble.RandomForestRegressor class](https://scikit-learn.org/stable/modules/generated/sklearn.ensemble.RandomForestRegressor.html#sklearn.ensemble.RandomForestRegressor)\n",
    "\n",
    "- [feature_selection module](https://scikit-learn.org/stable/modules/classes.html#module-sklearn.feature_selection)\n",
    "\n",
    "- [feature_selection.SelectFromModel class](https://scikit-learn.org/stable/modules/generated/sklearn.feature_selection.SelectFromModel.html#sklearn.feature_selection.SelectFromModel)\n",
    "\n",
    "- [feature_selection.SelectFromModel.get_support() method](https://scikit-learn.org/stable/modules/generated/sklearn.feature_selection.SelectFromModel.html#sklearn.feature_selection.SelectFromModel.get_support)\n",
    "\n",
    "- [feature_selection.SelectKBest class](https://scikit-learn.org/stable/modules/generated/sklearn.feature_selection.SelectKBest.html#sklearn.feature_selection.SelectKBest)\n",
    "\n",
    "- [feature_selection.f_regression scoring function](https://scikit-learn.org/stable/modules/generated/sklearn.feature_selection.f_regression.html#sklearn.feature_selection.f_regression)\n",
    "\n",
    "- [impute module](https://scikit-learn.org/stable/modules/classes.html#module-sklearn.impute)\n",
    "\n",
    "- [impute SimpleImputer class](https://scikit-learn.org/stable/modules/generated/sklearn.impute.SimpleImputer.html#sklearn.impute.SimpleImputer)\n",
    "\n",
    "- [linear_model module](https://scikit-learn.org/stable/modules/classes.html#module-sklearn.linear_model)\n",
    "\n",
    "- [linear_model.Lasso class](https://scikit-learn.org/stable/modules/generated/sklearn.linear_model.Lasso.html#sklearn.linear_model.Lasso)\n",
    "\n",
    "- [linear_model.LassoCV class](https://scikit-learn.org/stable/modules/generated/sklearn.linear_model.LassoCV.html#sklearn.linear_model.LassoCV)\n",
    "\n",
    "- [linear_model.LinearRegression class](https://scikit-learn.org/stable/modules/generated/sklearn.linear_model.LinearRegression.html#sklearn.linear_model.LinearRegression)\n",
    "\n",
    "- [linear models User Guide](https://scikit-learn.org/stable/modules/linear_model.html#linear-model)\n",
    "\n",
    "- [linear regression example](https://scikit-learn.org/stable/modules/generated/sklearn.linear_model.LinearRegression.html#sklearn.linear_model.LinearRegression)\n",
    "\n",
    "- [model_selection module](https://scikit-learn.org/stable/modules/classes.html#module-sklearn.model_selection)\n",
    "\n",
    "- [model_selection cross_val_score function](https://scikit-learn.org/stable/modules/generated/sklearn.model_selection.cross_val_score.html#sklearn.model_selection.cross_val_score)\n",
    "\n",
    "- [model_selection GridSearchCV class](https://scikit-learn.org/stable/modules/generated/sklearn.model_selection.GridSearchCV.html#sklearn.model_selection.GridSearchCV)\n",
    "\n",
    "- [model_selection train_test_split function](https://scikit-learn.org/stable/modules/generated/sklearn.model_selection.train_test_split.html#sklearn.model_selection.train_test_split)\n",
    "\n",
    "- [pipeline module](https://scikit-learn.org/stable/modules/classes.html#module-sklearn.pipeline)\n",
    "\n",
    "- [pipeline.make_pipeline function](https://scikit-learn.org/stable/modules/generated/sklearn.pipeline.make_pipeline.html#sklearn.pipeline.make_pipeline)\n",
    "\n",
    "- [tree module](https://scikit-learn.org/stable/modules/classes.html#module-sklearn.tree)\n",
    "\n",
    "- [tree.DecisionTreeRegressor class](https://scikit-learn.org/stable/modules/generated/sklearn.tree.DecisionTreeRegressor.html#sklearn.tree.DecisionTreeRegressor)\n",
    "\n",
    "## XGBoost\n",
    "\n",
    "- [API](https://xgboost.readthedocs.io/en/latest/python/python_api.html)\n",
    "\n",
    "- [XGBRegressor class](https://xgboost.readthedocs.io/en/latest/python/python_api.html#module-xgboost.sklearn)\n",
    "\n",
    "\n",
    "## Machine learning\n",
    "\n",
    "- [cross validation](https://en.wikipedia.org/wiki/Cross-validation_(statistics))\n",
    "\n",
    "- [feature selection](https://en.wikipedia.org/wiki/Feature_selection)\n",
    "\n",
    "- [hyperparameter optimization](https://en.wikipedia.org/wiki/Hyperparameter_optimization)\n",
    "\n",
    "- [imputation](https://en.wikipedia.org/wiki/Imputation_(statistics))\n",
    "\n",
    "- [linear regression](https://en.wikipedia.org/wiki/Linear_regression)"
   ]
  },
  {
   "cell_type": "markdown",
   "metadata": {},
   "source": [
    "# Glossary\n",
    "\n",
    "**ColumnTransformer** It is a Class in scikit-learn that applies transformers to columns in a data set.\n",
    "\n",
    "**Cross validation** It is a model validation technique for estimating how accurately a predictive model will perform in practice. In a prediction problem, a model is usually given a dataset of known data on which training is performed (training data set) and a data set of unknown data (or first-seen data) against which the model is tested (testing data set). Cross validation tests the model's ability to predict new data that was not used in estimating it in order to identify problems such as overfitting or selection bias, and to give insight on how the model will generalize to an independent (unknown) data set. One round of cross validation involves partitioning a sample of data into complementary subsets, performing the analyis on one subset (training set) and validating the analysis on the other subset (testing set). To reduce variability in the results, multiple rounds of cross validation are performed using different partitions and the validation results are combined (averaged) over the rounds to give an estimate of the model's predictive performance.\n",
    "\n",
    "**Data leakage** It is inadvertently including knowledge from the testing data when training a model. The model will be less reliable. This may lead to incorrect decisions when tuning hyperparameters. This may lead to overestimating how well the model will perform on new data.\n",
    "\n",
    "**Decision tree** It is a non-parametric supervised machine learning method used for classification and regression. It uses feature importance to determine potential features that could be in the model.\n",
    "\n",
    "**Feature** It is an independent variable that is controlled in order to cause an outcome in the dependent variable.\n",
    "\n",
    "**Feature selection** It is the process of selecting a set of features for a model. The data set probably contains features that are redundant or irrelevant, and can be removed with little effect on a model.\n",
    "\n",
    "**Hyperparameter** It is a value you set during the model fitting process.\n",
    "\n",
    "**Linear regression** It is a linear approach to modeling the relationship between a target and one or more features, using linear predictor functions where unknown model parameters are estimated from the data.\n",
    "\n",
    "**Machine Learning** Machine learning algortihms build a mathematical model on a training data subset in order to make predictions on a test data subset. Various measures are used to compare the actual and predicted data in the test data subset to estimate the performance of the model.\n",
    "\n",
    "**Mask** It is a pandas function that replaces a value with another value, a NaN by default.\n",
    "\n",
    "**Parameter** It is a value learned during the model fitting process.\n",
    "\n",
    "**Pipeline** A pipeline is a series of sequential steps. The output of each step is passed to the next step. It is a scikit-learn Class that applies one or more column transformations and a final estimator. The final estimator only needs to implement fit.The purpose is to assemble several steps that can be cross-validated together while setting different hyperparameters.\n",
    "\n",
    "**Target** It is a dependent variable that represents the outcome resulting from altering features (independent variables).\n",
    "\n",
    "**Testing data set** It is the data set upon which we use the model and put the values of the features to predict the target in order to compare the actual target values with the predicted values in order to evaluate the performance of the model.\n",
    "\n",
    "**Training data set** It contains known values of the target. The model learns from these data, that is, we fit a model to estimate the relationship between the target and the features.\n",
    "\n",
    "**Transformer** It is a scikit-learn object that transforms a column. For example, it can replace NaN with the average of all values in a column.\n",
    "\n",
    "**Workflow** It is a repeatable pattern of activity, a sequence of operations. In scikit-learn, workflow is achieved through the Pipeline class."
   ]
  }
 ],
 "metadata": {
  "kernelspec": {
   "display_name": "Python 3",
   "language": "python",
   "name": "python3"
  },
  "language_info": {
   "codemirror_mode": {
    "name": "ipython",
    "version": 3
   },
   "file_extension": ".py",
   "mimetype": "text/x-python",
   "name": "python",
   "nbconvert_exporter": "python",
   "pygments_lexer": "ipython3",
   "version": "3.8.3"
  },
  "varInspector": {
   "cols": {
    "lenName": 16,
    "lenType": 16,
    "lenVar": 40
   },
   "kernels_config": {
    "python": {
     "delete_cmd_postfix": "",
     "delete_cmd_prefix": "del ",
     "library": "var_list.py",
     "varRefreshCmd": "print(var_dic_list())"
    },
    "r": {
     "delete_cmd_postfix": ") ",
     "delete_cmd_prefix": "rm(",
     "library": "var_list.r",
     "varRefreshCmd": "cat(var_dic_list()) "
    }
   },
   "types_to_exclude": [
    "module",
    "function",
    "builtin_function_or_method",
    "instance",
    "_Feature"
   ],
   "window_display": false
  }
 },
 "nbformat": 4,
 "nbformat_minor": 2
}
